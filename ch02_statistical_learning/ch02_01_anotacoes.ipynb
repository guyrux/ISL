{
 "cells": [
  {
   "cell_type": "markdown",
   "metadata": {},
   "source": [
    "# Capítulo 02 - Aprendizado estatístico\n",
    "\n",
    "Aqui os autores tratam do que é o aprendizado estatístico. =)"
   ]
  },
  {
   "cell_type": "markdown",
   "metadata": {
    "heading_collapsed": true
   },
   "source": [
    "## O que é o aprendizado estatístico?\n",
    "\n",
    "Na página do Wikipedia sobre [*statistical learning theory*](https://en.wikipedia.org/wiki/Statistical_learning_theory), há a definição que realmente me fez entender a importância sobre o aprendizado estatístico. Hoje, sempre explico aos meus amigos que um dos quatro pilares do *machine learning* é o aprendizado estatístico. No wikipedia lê-se:\n",
    "\n",
    "> \"A teoria da aprendizagem estatística é uma estrutura para aprendizagem de máquina baseada nos campos da estatística e da análise funcional. (...) A teoria da aprendizagem estatística lida com o problema de encontrar uma função preditiva baseada em dados.\" \n",
    "\n",
    "\"Encontrar a função preditiva\", $f$, significa:\n",
    "\n",
    "$$ Y = f(X) + \\epsilon $$\n",
    "\n",
    "Sendo $\\epsilon$, o erro atrelado a essa estimação.\n",
    "\n",
    "### Por que estimar $f$?\n",
    "\n",
    "EM ISL, os autores dividem os problemas de estimação da função preditiva $f$ em dois tipos:\n",
    "\n",
    "- **Predição:** queremos encontrar o Y baseado no X disponível. Aqui, menos importância está sendo dada ao relacionamento entre fatores/preditores e a resposta; e mais importância é dada a obtenção de Y. E, outro ponto muito importante, é lembrarmos que o erro $\\epsilon$ possui duas parcelas:\n",
    " - (1) uma parte redutível, que reduz quanto mais próximo o modelo estimado $\\hat{f}$ for da função $f$, que descreve a realidade.\n",
    " - (2) uma parte irredutível, que é atrelado a fatores aleatórios e foatores/preditores que não estão sendo monitorados/observados.\n",
    " \n",
    "$$ E(Y-Y^2) = E[f(X) + \\epsilon - \\hat{f}(X)]^2 $$\n",
    "$$ E(Y-Y^2) = [f(X) - \\hat{f}(X)]^2 + Var(\\epsilon) $$\n",
    "\n",
    "Sendo:\n",
    "> - $E(Y-Y^2)$: diferença esperada entre $f$, realidade, $\\hat{f}$, função preditora.\n",
    "> - $[f(X) - \\hat{f}(X)]^2$: parcela redutível da diferença ou erro redutível.\n",
    "> - $Var(\\epsilon)$: parcela irredutível da diferença.\n",
    "\n",
    "- **Inferência:** queremos entender as relações entre Y e X. Ao contrário da abordagem anterior, aqui é importante entedermos a relação entre os preditores/fatores e a resposta. Algumas perguntas que podemos estar interessados são:\n",
    " - Quais fatores/preditores estão associados com a resposta?\n",
    " - Qual é o relacionamento entre a resposta e cada preditor?\n",
    " - O relacionamento entre os fatores e a resposta é linear ou é mais \"complicado\"?\n",
    " \n",
    "### Como estimar $f$?\n",
    "\n",
    "O livro separa as abordagens de estimação de $f$ em duas abordagens:\n",
    "\n",
    "1. Métodos **paramétricos**: são métodos que iniciam com uma premissa sobre a \"forma\" da função preditiva. Como exemplo temos a regressão linear, nesse método assume-se que a função terá a forma $\\hat{f}(X) = \\beta_{0} + \\beta_{1}X_{1}$ e, portanto, o resto do problema é encontrar os valores dos parâmetros $\\beta$.\n",
    "\n",
    "1. Métodos **não-paramétricos**: em oposição a abordagem anterior, aqui não há a formação de uma suposição acerca da forma da função.\n",
    "\n",
    "Uma desvantagem importante é que como a abordagem não paramétrica não há suposição acerca da forma, uma quantidade maior de observações são necessárias para obter uma função preditiva satisfatória.\n",
    "\n",
    "### O trade-off entre acurácia e interpretabilidade do modelo\n",
    "\n",
    "A Figura 1 apresenta de maneira esquemática o impacto da escolha de modelos mais ou menos flexíveis.\n",
    "\n",
    "<p class=\"aligncenter\">\n",
    "    <img src=\"../figures/2_tradeoff_flexibilit_interpretability.png\" alt=\"Dilema da flexibilidade e interpretabilidade\" width=\"550\">\n",
    "</p>\n",
    "<p style=\"text-align:center\"> Figura 1 - Dilema da flexibilidade e interpretabilidade.</p>\n",
    "<p style=\"text-align:center\"> Fonte: ISL.</p>\n",
    "\n",
    "### Aprendizado supervisionado e não supervisionado\n",
    "\n",
    "<p class=\"aligncenter\">\n",
    "    <img src=\"../figures/2_diagramaDeDecisao.jpg\" alt=\"Aprendizado supervisionado vs não-supervisionado\" width=\"550\">\n",
    "</p>\n",
    "<p style=\"text-align:center\"> Figura 2 - Aprendizado supervisionado vs não-supervisionado.</p>\n",
    "<p style=\"text-align:center\"> Fonte: Tirei de um post de um colega da poli no LinkedIn, mas não consegui encontrar o post. De qualquer forma, há a identificação da escola: <a href=\"https://liveuniversity.com\">Live University</a>.</p>\n",
    "\n",
    "### Problemas de regressão e classificação\n",
    "\n",
    "<p class=\"aligncenter\">\n",
    "    <img src=\"../figures/2_Differences-Between-Supervised-Learning-and-Unsupervised-Learning.png\" alt=\"Tipos de resposta vs tipos de abordagem de problemas: 'regressão e classificação'\" width=\"550\">\n",
    "</p>\n",
    "<p style=\"text-align:center\"> Figura 3 - Aprendizado supervisionado vs não-supervisionado.</p>\n",
    "<p style=\"text-align:center\"> Fonte: <a href=\"http://www.differencebetween.net/technology/differences-between-supervised-learning-and-unsupervised-learning/\">Difference Between</a>.</p>"
   ]
  },
  {
   "cell_type": "markdown",
   "metadata": {},
   "source": [
    "## Avaliando a acurácia de um modelo\n",
    "\n",
    "### Medindo a qualidade da aderência\n",
    "\n",
    "### O *trade-off* ou dilema do viés e da variância\n",
    "\n",
    "<p class=\"aligncenter\">\n",
    "    <img src=\"../figures/2_Bias-Variance_Tradeoff_web.png\" alt=\"Dilema do viés e da variância.\" width=\"550\">\n",
    "</p>\n",
    "<p style=\"text-align:center\"> Figura 4 - Dilema do viés e da variância.</p>\n",
    "<p style=\"text-align:center\"> Fonte: <a href=\"https://store.chrisalbon.com/dashboard\">Flash cards do Chris Albon</a>.</p>\n",
    "\n",
    "### A configuração da classificação"
   ]
  },
  {
   "cell_type": "code",
   "execution_count": null,
   "metadata": {},
   "outputs": [],
   "source": []
  }
 ],
 "metadata": {
  "hide_input": false,
  "kernelspec": {
   "display_name": "Python 3",
   "language": "python",
   "name": "python3"
  },
  "language_info": {
   "codemirror_mode": {
    "name": "ipython",
    "version": 3
   },
   "file_extension": ".py",
   "mimetype": "text/x-python",
   "name": "python",
   "nbconvert_exporter": "python",
   "pygments_lexer": "ipython3",
   "version": "3.8.3"
  },
  "toc": {
   "base_numbering": 1,
   "nav_menu": {},
   "number_sections": true,
   "sideBar": true,
   "skip_h1_title": false,
   "title_cell": "Table of Contents",
   "title_sidebar": "Contents",
   "toc_cell": false,
   "toc_position": {
    "height": "calc(100% - 180px)",
    "left": "10px",
    "top": "150px",
    "width": "309px"
   },
   "toc_section_display": true,
   "toc_window_display": true
  }
 },
 "nbformat": 4,
 "nbformat_minor": 4
}
