{
 "cells": [
  {
   "cell_type": "markdown",
   "metadata": {},
   "source": [
    "# Capítulo 02 - Aprendizado estatístico\n",
    "\n",
    "Aqui os autores tratam do que é o aprendizado estatístico. =)"
   ]
  },
  {
   "cell_type": "markdown",
   "metadata": {},
   "source": [
    "## O que é o aprendizado estatístico?\n",
    "\n",
    "Pontos importantes:\n",
    "\n",
    "### Por que estimar $f$?\n",
    "\n",
    "### O trade-off entre acurácia e interpretabilidade do modelo\n",
    "\n",
    "### Aprendizado supervisionado e não supervisionado\n",
    "\n",
    "### Problemas de regressão e classificação\n"
   ]
  },
  {
   "cell_type": "markdown",
   "metadata": {},
   "source": [
    "## Avaliando a acurácia de um modelo\n",
    "\n",
    "### Medindo a qualidade da aderência\n",
    "\n",
    "### O *trade-off* do viés e da variância\n",
    "\n",
    "### A configuração da classificação"
   ]
  }
 ],
 "metadata": {
  "hide_input": false,
  "kernelspec": {
   "display_name": "Python 3",
   "language": "python",
   "name": "python3"
  },
  "language_info": {
   "codemirror_mode": {
    "name": "ipython",
    "version": 3
   },
   "file_extension": ".py",
   "mimetype": "text/x-python",
   "name": "python",
   "nbconvert_exporter": "python",
   "pygments_lexer": "ipython3",
   "version": "3.8.3"
  },
  "toc": {
   "base_numbering": 1,
   "nav_menu": {},
   "number_sections": true,
   "sideBar": true,
   "skip_h1_title": false,
   "title_cell": "Table of Contents",
   "title_sidebar": "Contents",
   "toc_cell": false,
   "toc_position": {
    "height": "calc(100% - 180px)",
    "left": "10px",
    "top": "150px",
    "width": "309px"
   },
   "toc_section_display": true,
   "toc_window_display": true
  }
 },
 "nbformat": 4,
 "nbformat_minor": 4
}
