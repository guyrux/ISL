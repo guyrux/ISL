{
 "cells": [
  {
   "cell_type": "markdown",
   "metadata": {},
   "source": [
    "# Capítulo 10 - Aprendizado não supervisionado\n",
    "\n",
    "## Lab 1: PCA\n",
    "\n",
    "Esse exercício usa o dataset [USArrests](https://www.kaggle.com/deepakg/usarrests)."
   ]
  },
  {
   "cell_type": "code",
   "execution_count": 234,
   "metadata": {
    "ExecuteTime": {
     "end_time": "2020-11-05T03:44:58.976286Z",
     "start_time": "2020-11-05T03:44:58.967779Z"
    }
   },
   "outputs": [],
   "source": [
    "import pandas as pd\n",
    "import numpy as np\n",
    "import random\n",
    "\n",
    "from sklearn.preprocessing import StandardScaler\n",
    "from sklearn.decomposition import PCA\n",
    "\n",
    "import matplotlib.pyplot as plt\n",
    "import seaborn as sns\n",
    "\n",
    "# Parâmetros estéticos dos gráficos:\n",
    "set_palette = \"Paired\"\n",
    "axes_style = \"ticks\"\n",
    "\n",
    "linha = 50*\"-\""
   ]
  },
  {
   "cell_type": "code",
   "execution_count": 184,
   "metadata": {
    "ExecuteTime": {
     "end_time": "2020-11-05T02:13:44.509331Z",
     "start_time": "2020-11-05T02:13:44.482763Z"
    }
   },
   "outputs": [
    {
     "name": "stdout",
     "output_type": "stream",
     "text": [
      "Tamanho do dataset: (50, 4)\n"
     ]
    },
    {
     "data": {
      "text/html": [
       "<div>\n",
       "<style scoped>\n",
       "    .dataframe tbody tr th:only-of-type {\n",
       "        vertical-align: middle;\n",
       "    }\n",
       "\n",
       "    .dataframe tbody tr th {\n",
       "        vertical-align: top;\n",
       "    }\n",
       "\n",
       "    .dataframe thead th {\n",
       "        text-align: right;\n",
       "    }\n",
       "</style>\n",
       "<table border=\"1\" class=\"dataframe\">\n",
       "  <thead>\n",
       "    <tr style=\"text-align: right;\">\n",
       "      <th></th>\n",
       "      <th>Murder</th>\n",
       "      <th>Assault</th>\n",
       "      <th>UrbanPop</th>\n",
       "      <th>Rape</th>\n",
       "    </tr>\n",
       "  </thead>\n",
       "  <tbody>\n",
       "    <tr>\n",
       "      <th>count</th>\n",
       "      <td>50.00</td>\n",
       "      <td>50.00</td>\n",
       "      <td>50.00</td>\n",
       "      <td>50.00</td>\n",
       "    </tr>\n",
       "    <tr>\n",
       "      <th>mean</th>\n",
       "      <td>7.79</td>\n",
       "      <td>170.76</td>\n",
       "      <td>65.54</td>\n",
       "      <td>21.23</td>\n",
       "    </tr>\n",
       "    <tr>\n",
       "      <th>std</th>\n",
       "      <td>4.36</td>\n",
       "      <td>83.34</td>\n",
       "      <td>14.47</td>\n",
       "      <td>9.37</td>\n",
       "    </tr>\n",
       "    <tr>\n",
       "      <th>min</th>\n",
       "      <td>0.80</td>\n",
       "      <td>45.00</td>\n",
       "      <td>32.00</td>\n",
       "      <td>7.30</td>\n",
       "    </tr>\n",
       "    <tr>\n",
       "      <th>25%</th>\n",
       "      <td>4.08</td>\n",
       "      <td>109.00</td>\n",
       "      <td>54.50</td>\n",
       "      <td>15.08</td>\n",
       "    </tr>\n",
       "    <tr>\n",
       "      <th>50%</th>\n",
       "      <td>7.25</td>\n",
       "      <td>159.00</td>\n",
       "      <td>66.00</td>\n",
       "      <td>20.10</td>\n",
       "    </tr>\n",
       "    <tr>\n",
       "      <th>75%</th>\n",
       "      <td>11.25</td>\n",
       "      <td>249.00</td>\n",
       "      <td>77.75</td>\n",
       "      <td>26.17</td>\n",
       "    </tr>\n",
       "    <tr>\n",
       "      <th>max</th>\n",
       "      <td>17.40</td>\n",
       "      <td>337.00</td>\n",
       "      <td>91.00</td>\n",
       "      <td>46.00</td>\n",
       "    </tr>\n",
       "  </tbody>\n",
       "</table>\n",
       "</div>"
      ],
      "text/plain": [
       "       Murder  Assault  UrbanPop   Rape\n",
       "count   50.00    50.00     50.00  50.00\n",
       "mean     7.79   170.76     65.54  21.23\n",
       "std      4.36    83.34     14.47   9.37\n",
       "min      0.80    45.00     32.00   7.30\n",
       "25%      4.08   109.00     54.50  15.08\n",
       "50%      7.25   159.00     66.00  20.10\n",
       "75%     11.25   249.00     77.75  26.17\n",
       "max     17.40   337.00     91.00  46.00"
      ]
     },
     "execution_count": 184,
     "metadata": {},
     "output_type": "execute_result"
    }
   ],
   "source": [
    "df = pd.read_csv(\"../data/USArrests.csv\", index_col=0)\n",
    "column_names = df.columns\n",
    "\n",
    "print(f\"Tamanho do dataset: {df.shape}\")\n",
    "\n",
    "round(df.describe(), 2)"
   ]
  },
  {
   "cell_type": "markdown",
   "metadata": {},
   "source": [
    "### Padronização\n",
    "\n",
    "Conforme vimos nas anotações, é importante padronizarmos os valores antes de executar o PCA. Segue abaixo, uma comparação dos resultados obtidos sem padronização dos valores e com padronização:"
   ]
  },
  {
   "cell_type": "code",
   "execution_count": 185,
   "metadata": {
    "ExecuteTime": {
     "end_time": "2020-11-05T02:13:48.085093Z",
     "start_time": "2020-11-05T02:13:48.063092Z"
    }
   },
   "outputs": [
    {
     "name": "stdout",
     "output_type": "stream",
     "text": [
      "Proporção da variância explicada:\n",
      "- Sem padronização: [9.65534221e-01 2.78173366e-02 5.79953492e-03 8.48907879e-04]\n",
      "- Com padronização: [0.62006039 0.24744129 0.0891408  0.04335752]\n",
      "\n",
      "Componentes:\n",
      "- Sem padronização:\n",
      "        Murder   Assault  UrbanPop      Rape\n",
      "PCA1  0.041704  0.995221  0.046336  0.075156\n",
      "PCA2  0.044822  0.058760 -0.976857 -0.200718\n",
      "PCA3  0.079891 -0.067570 -0.200546  0.974081\n",
      "PCA4  0.994922 -0.038938  0.058169 -0.072325\n",
      "\n",
      "- Com padronização:\n",
      "        Murder   Assault  UrbanPop      Rape\n",
      "PCA1  0.535899  0.583184  0.278191  0.543432\n",
      "PCA2  0.418181  0.187986 -0.872806 -0.167319\n",
      "PCA3 -0.341233 -0.268148 -0.378016  0.817778\n",
      "PCA4  0.649228 -0.743407  0.133878  0.089024\n",
      "\n"
     ]
    }
   ],
   "source": [
    "scaler = StandardScaler()\n",
    "df_scaled = scaler.fit_transform(df)\n",
    "\n",
    "pca_without_scaling = PCA(n_components=4, random_state=42, whiten=False)\n",
    "pca_without_scaling.fit(df)\n",
    "\n",
    "pca = PCA(n_components=4, random_state=42, whiten=False)\n",
    "pca.fit(df_scaled)\n",
    "\n",
    "print(f\"\"\"Proporção da variância explicada:\n",
    "- Sem padronização: {pca_without_scaling.explained_variance_ratio_}\n",
    "- Com padronização: {pca.explained_variance_ratio_}\n",
    "\"\"\")\n",
    "\n",
    "print(f\"\"\"Componentes:\n",
    "- Sem padronização:\n",
    "{pd.DataFrame(pca_without_scaling.components_, index=[\"PCA1\", \"PCA2\", \"PCA3\", \"PCA4\"], columns=column_names)}\n",
    "\n",
    "- Com padronização:\n",
    "{pd.DataFrame(pca.components_, index=[\"PCA1\", \"PCA2\", \"PCA3\", \"PCA4\"], columns=column_names)}\n",
    "\"\"\")"
   ]
  },
  {
   "cell_type": "markdown",
   "metadata": {},
   "source": [
    "### Plotando o PVE\n",
    "\n",
    "Lembrando que PVE é a proprorção de variância explicada."
   ]
  },
  {
   "cell_type": "code",
   "execution_count": 163,
   "metadata": {
    "ExecuteTime": {
     "end_time": "2020-11-04T23:44:02.705612Z",
     "start_time": "2020-11-04T23:44:02.582642Z"
    }
   },
   "outputs": [
    {
     "data": {
      "image/png": "[encoded data removed]",
      "text/plain": [
       "<Figure size 432x288 with 1 Axes>"
      ]
     },
     "metadata": {
      "needs_background": "light"
     },
     "output_type": "display_data"
    }
   ],
   "source": [
    "pve = pd.DataFrame(pca.explained_variance_ratio_, columns=[\"PVE\"], index=[\"PCA1\", \"PCA2\", \"PCA3\", \"PCA4\"])\n",
    "\n",
    "plt.plot(pve.cumsum(), color=\"r\", marker=\"o\")\n",
    "plt.bar(height=pve.values[:,0], x=[0,1,2,3]);\n",
    "\n",
    "for x,y in zip([0,1,2,3],pve.values[:,0]):\n",
    "    label = \"{:.4f}\".format(y)\n",
    "    plt.annotate(label, # this is the text\n",
    "                 (x,y), # this is the point to label\n",
    "                 textcoords=\"offset points\", # how to position the text\n",
    "                 xytext=(0,10), # distance from text to points (x,y)\n",
    "                 ha='center') # horizontal alignment can be left, right or center\n",
    "    \n",
    "for x,y in zip([1,2,3],pve.cumsum().values[1:,0]):\n",
    "    label = \"{:.4f}\".format(y)\n",
    "    plt.annotate(label, # this is the text\n",
    "                 (x,y), # this is the point to label\n",
    "                 textcoords=\"offset points\", # how to position the text\n",
    "                 xytext=(0,10), # distance from text to points (x,y)\n",
    "                 ha='center') # horizontal alignment can be left, right or center\n",
    "\n",
    "plt.title(\"PVE e PVE acumulado\")\n",
    "plt.ylabel(\"Proporção\")\n",
    "plt.ylim([0, 1.15]);"
   ]
  },
  {
   "cell_type": "markdown",
   "metadata": {},
   "source": [
    "## Lab 3: NCI60 Data example\n",
    "\n",
    "Esse exercício usa o dataset [NCI60](https://www.kaggle.com/ukveteran/nci-60-data)."
   ]
  },
  {
   "cell_type": "code",
   "execution_count": 214,
   "metadata": {
    "ExecuteTime": {
     "end_time": "2020-11-05T03:13:17.302738Z",
     "start_time": "2020-11-05T03:13:16.981767Z"
    },
    "scrolled": true
   },
   "outputs": [
    {
     "name": "stdout",
     "output_type": "stream",
     "text": [
      "Tamanho do dataset: (64, 6831)\n"
     ]
    },
    {
     "data": {
      "text/html": [
       "<div>\n",
       "<style scoped>\n",
       "    .dataframe tbody tr th:only-of-type {\n",
       "        vertical-align: middle;\n",
       "    }\n",
       "\n",
       "    .dataframe tbody tr th {\n",
       "        vertical-align: top;\n",
       "    }\n",
       "\n",
       "    .dataframe thead th {\n",
       "        text-align: right;\n",
       "    }\n",
       "</style>\n",
       "<table border=\"1\" class=\"dataframe\">\n",
       "  <thead>\n",
       "    <tr style=\"text-align: right;\">\n",
       "      <th></th>\n",
       "      <th>data.1</th>\n",
       "      <th>data.2</th>\n",
       "      <th>data.3</th>\n",
       "      <th>data.4</th>\n",
       "      <th>data.5</th>\n",
       "      <th>data.6</th>\n",
       "      <th>data.7</th>\n",
       "      <th>data.8</th>\n",
       "      <th>data.9</th>\n",
       "      <th>data.10</th>\n",
       "      <th>...</th>\n",
       "      <th>data.6822</th>\n",
       "      <th>data.6823</th>\n",
       "      <th>data.6824</th>\n",
       "      <th>data.6825</th>\n",
       "      <th>data.6826</th>\n",
       "      <th>data.6827</th>\n",
       "      <th>data.6828</th>\n",
       "      <th>data.6829</th>\n",
       "      <th>data.6830</th>\n",
       "      <th>labs</th>\n",
       "    </tr>\n",
       "  </thead>\n",
       "  <tbody>\n",
       "    <tr>\n",
       "      <th>V1</th>\n",
       "      <td>0.300000</td>\n",
       "      <td>1.180000</td>\n",
       "      <td>0.550000</td>\n",
       "      <td>1.140000</td>\n",
       "      <td>-0.265000</td>\n",
       "      <td>-0.070000</td>\n",
       "      <td>0.350000</td>\n",
       "      <td>-0.315000</td>\n",
       "      <td>-0.450000</td>\n",
       "      <td>-0.654981</td>\n",
       "      <td>...</td>\n",
       "      <td>0.000000</td>\n",
       "      <td>0.030000</td>\n",
       "      <td>-0.175000</td>\n",
       "      <td>0.629981</td>\n",
       "      <td>-0.030000</td>\n",
       "      <td>0.000000</td>\n",
       "      <td>0.280000</td>\n",
       "      <td>-0.340000</td>\n",
       "      <td>-1.930000</td>\n",
       "      <td>CNS</td>\n",
       "    </tr>\n",
       "    <tr>\n",
       "      <th>V2</th>\n",
       "      <td>0.679961</td>\n",
       "      <td>1.289961</td>\n",
       "      <td>0.169961</td>\n",
       "      <td>0.379961</td>\n",
       "      <td>0.464961</td>\n",
       "      <td>0.579961</td>\n",
       "      <td>0.699961</td>\n",
       "      <td>0.724961</td>\n",
       "      <td>-0.040039</td>\n",
       "      <td>-0.285020</td>\n",
       "      <td>...</td>\n",
       "      <td>-0.300039</td>\n",
       "      <td>-0.250039</td>\n",
       "      <td>-0.535039</td>\n",
       "      <td>0.109941</td>\n",
       "      <td>-0.860039</td>\n",
       "      <td>-1.250049</td>\n",
       "      <td>-0.770039</td>\n",
       "      <td>-0.390039</td>\n",
       "      <td>-2.000039</td>\n",
       "      <td>CNS</td>\n",
       "    </tr>\n",
       "    <tr>\n",
       "      <th>V3</th>\n",
       "      <td>0.940000</td>\n",
       "      <td>-0.040000</td>\n",
       "      <td>-0.170000</td>\n",
       "      <td>-0.040000</td>\n",
       "      <td>-0.605000</td>\n",
       "      <td>0.000000</td>\n",
       "      <td>0.090000</td>\n",
       "      <td>0.645000</td>\n",
       "      <td>0.430000</td>\n",
       "      <td>0.475019</td>\n",
       "      <td>...</td>\n",
       "      <td>0.120000</td>\n",
       "      <td>-0.740000</td>\n",
       "      <td>-0.595000</td>\n",
       "      <td>-0.270020</td>\n",
       "      <td>-0.150000</td>\n",
       "      <td>0.000000</td>\n",
       "      <td>-0.120000</td>\n",
       "      <td>-0.410000</td>\n",
       "      <td>0.000000</td>\n",
       "      <td>CNS</td>\n",
       "    </tr>\n",
       "  </tbody>\n",
       "</table>\n",
       "<p>3 rows × 6831 columns</p>\n",
       "</div>"
      ],
      "text/plain": [
       "      data.1    data.2    data.3    data.4    data.5    data.6    data.7  \\\n",
       "V1  0.300000  1.180000  0.550000  1.140000 -0.265000 -0.070000  0.350000   \n",
       "V2  0.679961  1.289961  0.169961  0.379961  0.464961  0.579961  0.699961   \n",
       "V3  0.940000 -0.040000 -0.170000 -0.040000 -0.605000  0.000000  0.090000   \n",
       "\n",
       "      data.8    data.9   data.10  ...  data.6822  data.6823  data.6824  \\\n",
       "V1 -0.315000 -0.450000 -0.654981  ...   0.000000   0.030000  -0.175000   \n",
       "V2  0.724961 -0.040039 -0.285020  ...  -0.300039  -0.250039  -0.535039   \n",
       "V3  0.645000  0.430000  0.475019  ...   0.120000  -0.740000  -0.595000   \n",
       "\n",
       "    data.6825  data.6826  data.6827  data.6828  data.6829  data.6830  labs  \n",
       "V1   0.629981  -0.030000   0.000000   0.280000  -0.340000  -1.930000   CNS  \n",
       "V2   0.109941  -0.860039  -1.250049  -0.770039  -0.390039  -2.000039   CNS  \n",
       "V3  -0.270020  -0.150000   0.000000  -0.120000  -0.410000   0.000000   CNS  \n",
       "\n",
       "[3 rows x 6831 columns]"
      ]
     },
     "execution_count": 214,
     "metadata": {},
     "output_type": "execute_result"
    }
   ],
   "source": [
    "df_nci60 = pd.read_csv(\"../data/NCI60.csv\", index_col=0)\n",
    "column_names = df_nci60.columns\n",
    "\n",
    "print(f\"Tamanho do dataset: {df_nci60.shape}\")\n",
    "\n",
    "df_nci60.head(3)"
   ]
  },
  {
   "cell_type": "code",
   "execution_count": 215,
   "metadata": {
    "ExecuteTime": {
     "end_time": "2020-11-05T03:13:18.110590Z",
     "start_time": "2020-11-05T03:13:18.093432Z"
    }
   },
   "outputs": [
    {
     "name": "stdout",
     "output_type": "stream",
     "text": [
      "Quantidade de tipos de células: 64\n"
     ]
    },
    {
     "data": {
      "text/plain": [
       "NSCLC          9\n",
       "RENAL          9\n",
       "MELANOMA       8\n",
       "BREAST         7\n",
       "COLON          7\n",
       "OVARIAN        6\n",
       "LEUKEMIA       6\n",
       "CNS            5\n",
       "PROSTATE       2\n",
       "K562B-repro    1\n",
       "K562A-repro    1\n",
       "MCF7D-repro    1\n",
       "MCF7A-repro    1\n",
       "UNKNOWN        1\n",
       "Name: labs, dtype: int64"
      ]
     },
     "execution_count": 215,
     "metadata": {},
     "output_type": "execute_result"
    }
   ],
   "source": [
    "print(f\"\"\"Quantidade de tipos de células: {df_nci60[\"labs\"].value_counts().sum()}\"\"\")\n",
    "\n",
    "df_nci60[\"labs\"].value_counts()"
   ]
  },
  {
   "cell_type": "code",
   "execution_count": 229,
   "metadata": {
    "ExecuteTime": {
     "end_time": "2020-11-05T03:38:39.971592Z",
     "start_time": "2020-11-05T03:38:39.772551Z"
    }
   },
   "outputs": [
    {
     "data": {
      "image/png": "[encoded data removed]",
      "text/plain": [
       "<Figure size 432x288 with 1 Axes>"
      ]
     },
     "metadata": {
      "needs_background": "light"
     },
     "output_type": "display_data"
    }
   ],
   "source": [
    "df_scaled = df_nci60.drop([\"labs\"], axis=1).copy()\n",
    "column_names = df_scaled.columns\n",
    "index_names = df_scaled.index\n",
    "\n",
    "scaler = StandardScaler()\n",
    "df_scaled = scaler.fit_transform(df_scaled)\n",
    "\n",
    "df_scaled.shape\n",
    "\n",
    "pca = PCA(n_components=5, random_state=42, whiten=False)\n",
    "df_scaled_pca = pca.fit_transform(df_scaled)\n",
    "\n",
    "df_scaled_pca = pd.DataFrame(df_scaled_pca, index=index_names, columns=[\"PCA1\", \"PCA2\", \"PCA3\", \"PCA4\", \"PCA5\"])\n",
    "\n",
    "df_scaled_pca[\"labs\"] = df_nci60[\"labs\"]\n",
    "\n",
    "pve = pd.DataFrame(pca.explained_variance_ratio_, columns=[\"PVE\"], index=[\"PCA1\", \"PCA2\", \"PCA3\", \"PCA4\", \"PCA5\"])\n",
    "\n",
    "plt.plot(pve.cumsum(), color=\"r\", marker=\"o\")\n",
    "plt.bar(height=pve.values[:,0], x=[0,1,2,3,4]);\n",
    "\n",
    "for x,y in zip([0,1,2,3,4],pve.values[:,0]):\n",
    "    label = \"{:.4f}\".format(y)\n",
    "    plt.annotate(label, # this is the text\n",
    "                 (x,y), # this is the point to label\n",
    "                 textcoords=\"offset points\", # how to position the text\n",
    "                 xytext=(0,10), # distance from text to points (x,y)\n",
    "                 ha='center') # horizontal alignment can be left, right or center\n",
    "    \n",
    "for x,y in zip([1,2,3,4],pve.cumsum().values[1:,0]):\n",
    "    label = \"{:.4f}\".format(y)\n",
    "    plt.annotate(label, # this is the text\n",
    "                 (x,y), # this is the point to label\n",
    "                 textcoords=\"offset points\", # how to position the text\n",
    "                 xytext=(0,10), # distance from text to points (x,y)\n",
    "                 ha='center') # horizontal alignment can be left, right or center\n",
    "\n",
    "plt.title(\"PVE e PVE acumulado\")\n",
    "plt.ylabel(\"Proporção\")\n",
    "plt.ylim([0, .38]);"
   ]
  },
  {
   "cell_type": "code",
   "execution_count": 296,
   "metadata": {
    "ExecuteTime": {
     "end_time": "2020-11-06T01:07:28.557276Z",
     "start_time": "2020-11-06T01:07:28.527092Z"
    }
   },
   "outputs": [
    {
     "data": {
      "text/html": [
       "<div>\n",
       "<style scoped>\n",
       "    .dataframe tbody tr th:only-of-type {\n",
       "        vertical-align: middle;\n",
       "    }\n",
       "\n",
       "    .dataframe tbody tr th {\n",
       "        vertical-align: top;\n",
       "    }\n",
       "\n",
       "    .dataframe thead th {\n",
       "        text-align: right;\n",
       "    }\n",
       "</style>\n",
       "<table border=\"1\" class=\"dataframe\">\n",
       "  <thead>\n",
       "    <tr style=\"text-align: right;\">\n",
       "      <th></th>\n",
       "      <th>PCA1</th>\n",
       "      <th>PCA2</th>\n",
       "      <th>PCA3</th>\n",
       "      <th>PCA4</th>\n",
       "      <th>PCA5</th>\n",
       "    </tr>\n",
       "  </thead>\n",
       "  <tbody>\n",
       "    <tr>\n",
       "      <th>count</th>\n",
       "      <td>6.400000e+01</td>\n",
       "      <td>6.400000e+01</td>\n",
       "      <td>6.400000e+01</td>\n",
       "      <td>6.400000e+01</td>\n",
       "      <td>6.400000e+01</td>\n",
       "    </tr>\n",
       "    <tr>\n",
       "      <th>mean</th>\n",
       "      <td>-1.443290e-15</td>\n",
       "      <td>-4.440892e-16</td>\n",
       "      <td>-1.457168e-16</td>\n",
       "      <td>5.898060e-16</td>\n",
       "      <td>1.488393e-15</td>\n",
       "    </tr>\n",
       "    <tr>\n",
       "      <th>std</th>\n",
       "      <td>2.807366e+01</td>\n",
       "      <td>2.165117e+01</td>\n",
       "      <td>1.997715e+01</td>\n",
       "      <td>1.716715e+01</td>\n",
       "      <td>1.609803e+01</td>\n",
       "    </tr>\n",
       "    <tr>\n",
       "      <th>min</th>\n",
       "      <td>-5.541853e+01</td>\n",
       "      <td>-2.579109e+01</td>\n",
       "      <td>-4.011258e+01</td>\n",
       "      <td>-2.923196e+01</td>\n",
       "      <td>-3.781761e+01</td>\n",
       "    </tr>\n",
       "    <tr>\n",
       "      <th>25%</th>\n",
       "      <td>-1.988923e+01</td>\n",
       "      <td>-1.452448e+01</td>\n",
       "      <td>-1.364629e+01</td>\n",
       "      <td>-1.099401e+01</td>\n",
       "      <td>-9.127742e+00</td>\n",
       "    </tr>\n",
       "    <tr>\n",
       "      <th>50%</th>\n",
       "      <td>-5.126813e+00</td>\n",
       "      <td>-6.283319e+00</td>\n",
       "      <td>2.274229e+00</td>\n",
       "      <td>-3.368539e+00</td>\n",
       "      <td>-8.346957e-01</td>\n",
       "    </tr>\n",
       "    <tr>\n",
       "      <th>75%</th>\n",
       "      <td>1.864321e+01</td>\n",
       "      <td>5.602042e+00</td>\n",
       "      <td>9.807011e+00</td>\n",
       "      <td>7.038074e+00</td>\n",
       "      <td>6.940786e+00</td>\n",
       "    </tr>\n",
       "    <tr>\n",
       "      <th>max</th>\n",
       "      <td>6.977793e+01</td>\n",
       "      <td>6.105626e+01</td>\n",
       "      <td>4.688996e+01</td>\n",
       "      <td>5.455196e+01</td>\n",
       "      <td>4.743575e+01</td>\n",
       "    </tr>\n",
       "  </tbody>\n",
       "</table>\n",
       "</div>"
      ],
      "text/plain": [
       "               PCA1          PCA2          PCA3          PCA4          PCA5\n",
       "count  6.400000e+01  6.400000e+01  6.400000e+01  6.400000e+01  6.400000e+01\n",
       "mean  -1.443290e-15 -4.440892e-16 -1.457168e-16  5.898060e-16  1.488393e-15\n",
       "std    2.807366e+01  2.165117e+01  1.997715e+01  1.716715e+01  1.609803e+01\n",
       "min   -5.541853e+01 -2.579109e+01 -4.011258e+01 -2.923196e+01 -3.781761e+01\n",
       "25%   -1.988923e+01 -1.452448e+01 -1.364629e+01 -1.099401e+01 -9.127742e+00\n",
       "50%   -5.126813e+00 -6.283319e+00  2.274229e+00 -3.368539e+00 -8.346957e-01\n",
       "75%    1.864321e+01  5.602042e+00  9.807011e+00  7.038074e+00  6.940786e+00\n",
       "max    6.977793e+01  6.105626e+01  4.688996e+01  5.455196e+01  4.743575e+01"
      ]
     },
     "execution_count": 296,
     "metadata": {},
     "output_type": "execute_result"
    }
   ],
   "source": [
    "df_scaled_pca.describe()"
   ]
  },
  {
   "cell_type": "code",
   "execution_count": 278,
   "metadata": {
    "ExecuteTime": {
     "end_time": "2020-11-05T04:03:53.130914Z",
     "start_time": "2020-11-05T04:03:52.812398Z"
    }
   },
   "outputs": [
    {
     "data": {
      "image/png": "[encoded data removed]",
      "text/plain": [
       "<Figure size 1080x432 with 2 Axes>"
      ]
     },
     "metadata": {
      "needs_background": "light"
     },
     "output_type": "display_data"
    }
   ],
   "source": [
    "sns.set_palette(set_palette)\n",
    "sns.axes_style(axes_style)\n",
    "\n",
    "fig, axs = plt.subplots(ncols=2, figsize=(15,6))\n",
    "\n",
    "for i, feature in enumerate(df_scaled_pca.columns[1:3]):\n",
    "    plt.subplots_adjust(wspace = .45)\n",
    "    ax = sns.scatterplot(x=\"PCA1\", y=feature, hue=\"labs\", data=df_scaled_pca, ax=axs[i])\n",
    "    ax.legend(frameon=False, loc='right', ncol=1, bbox_to_anchor=(1.28, 0.68), borderaxespad=0.1)\n"
   ]
  },
  {
   "cell_type": "code",
   "execution_count": null,
   "metadata": {},
   "outputs": [],
   "source": []
  }
 ],
 "metadata": {
  "hide_input": false,
  "kernelspec": {
   "display_name": "Python 3",
   "language": "python",
   "name": "python3"
  },
  "language_info": {
   "codemirror_mode": {
    "name": "ipython",
    "version": 3
   },
   "file_extension": ".py",
   "mimetype": "text/x-python",
   "name": "python",
   "nbconvert_exporter": "python",
   "pygments_lexer": "ipython3",
   "version": "3.8.3"
  },
  "toc": {
   "base_numbering": 1,
   "nav_menu": {},
   "number_sections": true,
   "sideBar": true,
   "skip_h1_title": false,
   "title_cell": "Table of Contents",
   "title_sidebar": "Contents",
   "toc_cell": false,
   "toc_position": {},
   "toc_section_display": true,
   "toc_window_display": true
  }
 },
 "nbformat": 4,
 "nbformat_minor": 4
}
