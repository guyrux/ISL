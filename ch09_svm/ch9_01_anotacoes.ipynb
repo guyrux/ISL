{
 "cells": [
  {
   "cell_type": "markdown",
   "metadata": {},
   "source": [
    "# Capítulo 09 - Support Vector Machines\n",
    "\n",
    "Antes de iniciar, é primordial indicar que o conceito de Support Vector Machines muitas vezes é confundido com o **classificador de margem máxima (*maximal margin classifier*)** e o **support vector classifiers**. Esses três termos se relacionam, mas não possuem a mesma definição.\n",
    "\n",
    "Para entender os três temas, eles são explicados na seguinte sequência:\n",
    "\n",
    "1. Classificador de margem máxima\n",
    "1. Support vector classifiers\n",
    "1. Support vector machines\n",
    "\n",
    "## Classificador de margem máxima\n",
    "\n",
    "O classificador de margem máxima trata-se de um modelo que nos permite classificar um elemento entre duas classes desde que seja possível a criação de um hiperplano que separe **completamente** as duas regiões e esse hiperplano está localizado na distância máxima possível entre as duas classes, conforme ilustrado na figura 1.\n",
    "\n",
    "<p class=\"aligncenter\">\n",
    "    <img src=\"../figures/9_maximal_margim_classifier.jpg\" alt=\"Maximal margin classifier\" width=\"350\">\n",
    "</p>\n",
    "<p style=\"text-align:center\"> Figura 1 - Esquema ilustrativo do classificador de máxima margem.</p>"
   ]
  },
  {
   "cell_type": "markdown",
   "metadata": {},
   "source": [
    "### O que é um hiperplano?\n",
    "É \"o sub-espaço de dimensão menor que seu espaço ambiente; ou seja, num espaço de dimensão *p*, um hiperplano teria *p-1* dimensões.\n",
    "\n",
    "O hiperplano, que divide duas classes localizadas em um ambiente de dimensão *p*, é dado pela equação:\n",
    "\n",
    "$$ \\beta_{0} + \\beta_{1}X_{1} + ... + \\beta_{p}X_{p} = 0 \\tag{1} $$\n",
    "\n",
    "Por fim, para definir se uma nova observação pertence a uma classe ou outra, determina-se de o resultado da **equação (1)** foi maior ou menor que 0.\n",
    "Definindo que uma classe seja 1 e a outra -1, teríamos:\n",
    "- Se classe = 1 ou yi = 1:\n",
    "$$ \\beta_{0} + \\beta_{1}X_{1} + ... + \\beta_{p}X_{p} > 0 \\tag{2} $$\n",
    "\n",
    "- Se classe = -1 ou yi = -1:\n",
    "$$ \\beta_{0} + \\beta_{1}X_{1} + ... + \\beta_{p}X_{p} < 0 \\tag{3} $$\n",
    "\n",
    "E o hiperplano teria a seguinte propriedade:\n",
    "\n",
    "$$ y_{i}(\\beta_{0} + \\beta_{1}X_{1} + ... + \\beta_{p}X_{p}) > 0 \\tag{4} $$\n",
    "\n",
    "Com isso, para a construção do classificador de margem máxima, devemos otimizar o seguinte problema:\n",
    "\n",
    "\\begin{cases}\n",
    "\\\\\n",
    "Max(M) \\\\\n",
    "\\\\\n",
    "\\sum_{j=1}^{p} \\beta_{j}^2=1 \\\\\n",
    "\\\\\n",
    "y_{i}(\\beta_{0} + \\beta_{1}x_{i1} + ... + \\beta_{p}x_{ip}) \\geq M, \\\\ i=1,...,n\n",
    "\\\\ \\tag{5}\n",
    "\\end{cases}\n",
    "\n",
    "Sendo n, as *n* observações.\n",
    "\n",
    "Porém, a maior parte dos casos reais não podem ser separados pelo classificador de margem máxima."
   ]
  },
  {
   "cell_type": "markdown",
   "metadata": {},
   "source": [
    "## Support vector classifiers\n",
    "\n",
    "Como citado, existem casos (a maior parte deles) em que não é possível criar um hiperplano que divida perfeitamente as classes, ou seja, não existe solução com M > 0 para a otimização (5). Para esses casos, podemos usar a abordagem **support vector classifiers** que permite algumas classificações erradas próximas do hiperplano de separação, essa técnica também é  conhecida como **soft margin classifier**. Nessa técnica é incluído um hiperparâmetro *C* que introduz uma tolerância aos erros de classificação.\n",
    "\n",
    "Com a introdução do *C*, o problema de otimização (5) passa a ter a seguinte forma:\n",
    "\n",
    "\\begin{cases}\n",
    "\\\\\n",
    "Max(M) \\\\\n",
    "\\\\\n",
    "\\sum_{j=1}^{p} \\beta_{j}^2=1 \\\\\n",
    "\\\\\n",
    "y_{i}(\\beta_{0} + \\beta_{1}x_{i1} + ... + \\beta_{p}x_{ip}) \\geq M(1-\\epsilon_{i}), \\\\ i=1,...,n \\\\\n",
    "\\\\\n",
    "\\epsilon_{i} \\geq 0, \\\\ \\sum_{i=1}^{n} \\epsilon_{i} \\leq C  \\\\\n",
    "\\\\ \\tag{6}\n",
    "\\end{cases}\n",
    "\n"
   ]
  },
  {
   "cell_type": "markdown",
   "metadata": {
    "ExecuteTime": {
     "end_time": "2020-10-14T01:49:41.756389Z",
     "start_time": "2020-10-14T01:49:41.714371Z"
    }
   },
   "source": [
    "## Support vector machines\n",
    "\n",
    "Finalmente, o support vector machines é \"uma extensão do *support vector classifiers*, sendo que o SVM é o resultado de um  aumento do espaço de atributos usando ***kernels***\". Ou seja, cria(m)-se dimensão(ões) a partir da(s) dimensão(ões) originais. Com o aumento do espaço de atributos, é possível encontrar fronteiras não lineares (hiperplanos) capazes de se acomodar entra as classes.\n",
    "\n",
    "Os ***kernels*** mais comuns são:\n",
    "\n",
    "- linear:\n",
    "\n",
    "- polynomial:\n",
    "\n",
    "- função de base radial (rbf):\n",
    "\n",
    "- sigmoidal:"
   ]
  },
  {
   "cell_type": "markdown",
   "metadata": {
    "ExecuteTime": {
     "end_time": "2020-10-14T01:49:45.608579Z",
     "start_time": "2020-10-14T01:49:45.596583Z"
    }
   },
   "source": [
    "## SVMs com mais de duas classes\n",
    "\n",
    "O SVM, desde o classificador de margem máxima, tem o objetivo de separar duas classes. No entanto, é possível utilizar para problemas de classificação multiclasse. No livro, são apresentadas duas abordagens possíveis:\n",
    "\n",
    "1. **Classificação \"um versus um\"**;\n",
    "\n",
    "1. **Classificação \"um versus todos\"**."
   ]
  },
  {
   "cell_type": "markdown",
   "metadata": {},
   "source": [
    "## Support vector regressor"
   ]
  },
  {
   "cell_type": "markdown",
   "metadata": {
    "ExecuteTime": {
     "end_time": "2020-10-20T01:25:54.028536Z",
     "start_time": "2020-10-20T01:25:54.019030Z"
    }
   },
   "source": [
    "## Detecção de anomalias\n",
    "\n",
    "Na documentação do scikit-learn, há o uso de um método baseado em SVM para detecção de anomalias: o [OneClassSVM](https://scikit-learn.org/stable/modules/outlier_detection.html#outlier-detection)."
   ]
  }
 ],
 "metadata": {
  "hide_input": false,
  "kernelspec": {
   "display_name": "Python 3",
   "language": "python",
   "name": "python3"
  },
  "language_info": {
   "codemirror_mode": {
    "name": "ipython",
    "version": 3
   },
   "file_extension": ".py",
   "mimetype": "text/x-python",
   "name": "python",
   "nbconvert_exporter": "python",
   "pygments_lexer": "ipython3",
   "version": "3.8.5"
  },
  "toc": {
   "base_numbering": 1,
   "nav_menu": {},
   "number_sections": true,
   "sideBar": true,
   "skip_h1_title": false,
   "title_cell": "Table of Contents",
   "title_sidebar": "Contents",
   "toc_cell": false,
   "toc_position": {
    "height": "calc(100% - 180px)",
    "left": "10px",
    "top": "150px",
    "width": "309px"
   },
   "toc_section_display": true,
   "toc_window_display": true
  }
 },
 "nbformat": 4,
 "nbformat_minor": 4
}
