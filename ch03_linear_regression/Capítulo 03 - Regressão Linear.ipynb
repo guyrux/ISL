{
 "cells": [
  {
   "cell_type": "markdown",
   "metadata": {},
   "source": [
    "# Capítulo 03 - Regressão linear\n",
    "\n",
    "## Exercícios aplicados\n",
    "\n",
    "### Exercício 08"
   ]
  },
  {
   "cell_type": "code",
   "execution_count": 31,
   "metadata": {
    "ExecuteTime": {
     "end_time": "2020-09-11T02:57:36.585327Z",
     "start_time": "2020-09-11T02:57:35.973057Z"
    }
   },
   "outputs": [
    {
     "name": "stderr",
     "output_type": "stream",
     "text": [
      "<frozen importlib._bootstrap>:219: RuntimeWarning: numpy.ufunc size changed, may indicate binary incompatibility. Expected 192 from C header, got 216 from PyObject\n"
     ]
    },
    {
     "data": {
      "text/html": [
       "<div>\n",
       "<style scoped>\n",
       "    .dataframe tbody tr th:only-of-type {\n",
       "        vertical-align: middle;\n",
       "    }\n",
       "\n",
       "    .dataframe tbody tr th {\n",
       "        vertical-align: top;\n",
       "    }\n",
       "\n",
       "    .dataframe thead th {\n",
       "        text-align: right;\n",
       "    }\n",
       "</style>\n",
       "<table border=\"1\" class=\"dataframe\">\n",
       "  <thead>\n",
       "    <tr style=\"text-align: right;\">\n",
       "      <th></th>\n",
       "      <th>mpg</th>\n",
       "      <th>cylinders</th>\n",
       "      <th>displacement</th>\n",
       "      <th>horsepower</th>\n",
       "      <th>weight</th>\n",
       "      <th>acceleration</th>\n",
       "      <th>year</th>\n",
       "      <th>origin</th>\n",
       "      <th>name</th>\n",
       "    </tr>\n",
       "  </thead>\n",
       "  <tbody>\n",
       "    <tr>\n",
       "      <th>114</th>\n",
       "      <td>26.0</td>\n",
       "      <td>4</td>\n",
       "      <td>98.0</td>\n",
       "      <td>90</td>\n",
       "      <td>2265</td>\n",
       "      <td>15.5</td>\n",
       "      <td>73</td>\n",
       "      <td>2</td>\n",
       "      <td>fiat 124 sport coupe</td>\n",
       "    </tr>\n",
       "    <tr>\n",
       "      <th>278</th>\n",
       "      <td>31.5</td>\n",
       "      <td>4</td>\n",
       "      <td>89.0</td>\n",
       "      <td>71</td>\n",
       "      <td>1990</td>\n",
       "      <td>14.9</td>\n",
       "      <td>78</td>\n",
       "      <td>2</td>\n",
       "      <td>volkswagen scirocco</td>\n",
       "    </tr>\n",
       "    <tr>\n",
       "      <th>237</th>\n",
       "      <td>30.5</td>\n",
       "      <td>4</td>\n",
       "      <td>98.0</td>\n",
       "      <td>63</td>\n",
       "      <td>2051</td>\n",
       "      <td>17.0</td>\n",
       "      <td>77</td>\n",
       "      <td>1</td>\n",
       "      <td>chevrolet chevette</td>\n",
       "    </tr>\n",
       "    <tr>\n",
       "      <th>57</th>\n",
       "      <td>24.0</td>\n",
       "      <td>4</td>\n",
       "      <td>113.0</td>\n",
       "      <td>95</td>\n",
       "      <td>2278</td>\n",
       "      <td>15.5</td>\n",
       "      <td>72</td>\n",
       "      <td>3</td>\n",
       "      <td>toyota corona hardtop</td>\n",
       "    </tr>\n",
       "    <tr>\n",
       "      <th>72</th>\n",
       "      <td>15.0</td>\n",
       "      <td>8</td>\n",
       "      <td>304.0</td>\n",
       "      <td>150</td>\n",
       "      <td>3892</td>\n",
       "      <td>12.5</td>\n",
       "      <td>72</td>\n",
       "      <td>1</td>\n",
       "      <td>amc matador (sw)</td>\n",
       "    </tr>\n",
       "    <tr>\n",
       "      <th>354</th>\n",
       "      <td>34.5</td>\n",
       "      <td>4</td>\n",
       "      <td>100.0</td>\n",
       "      <td>?</td>\n",
       "      <td>2320</td>\n",
       "      <td>15.8</td>\n",
       "      <td>81</td>\n",
       "      <td>2</td>\n",
       "      <td>renault 18i</td>\n",
       "    </tr>\n",
       "    <tr>\n",
       "      <th>73</th>\n",
       "      <td>13.0</td>\n",
       "      <td>8</td>\n",
       "      <td>307.0</td>\n",
       "      <td>130</td>\n",
       "      <td>4098</td>\n",
       "      <td>14.0</td>\n",
       "      <td>72</td>\n",
       "      <td>1</td>\n",
       "      <td>chevrolet chevelle concours (sw)</td>\n",
       "    </tr>\n",
       "    <tr>\n",
       "      <th>157</th>\n",
       "      <td>15.0</td>\n",
       "      <td>8</td>\n",
       "      <td>350.0</td>\n",
       "      <td>145</td>\n",
       "      <td>4440</td>\n",
       "      <td>14.0</td>\n",
       "      <td>75</td>\n",
       "      <td>1</td>\n",
       "      <td>chevrolet bel air</td>\n",
       "    </tr>\n",
       "    <tr>\n",
       "      <th>153</th>\n",
       "      <td>18.0</td>\n",
       "      <td>6</td>\n",
       "      <td>250.0</td>\n",
       "      <td>105</td>\n",
       "      <td>3459</td>\n",
       "      <td>16.0</td>\n",
       "      <td>75</td>\n",
       "      <td>1</td>\n",
       "      <td>chevrolet nova</td>\n",
       "    </tr>\n",
       "    <tr>\n",
       "      <th>358</th>\n",
       "      <td>31.6</td>\n",
       "      <td>4</td>\n",
       "      <td>120.0</td>\n",
       "      <td>74</td>\n",
       "      <td>2635</td>\n",
       "      <td>18.3</td>\n",
       "      <td>81</td>\n",
       "      <td>3</td>\n",
       "      <td>mazda 626</td>\n",
       "    </tr>\n",
       "  </tbody>\n",
       "</table>\n",
       "</div>"
      ],
      "text/plain": [
       "      mpg  cylinders  displacement horsepower  weight  acceleration  year  \\\n",
       "114  26.0          4          98.0         90    2265          15.5    73   \n",
       "278  31.5          4          89.0         71    1990          14.9    78   \n",
       "237  30.5          4          98.0         63    2051          17.0    77   \n",
       "57   24.0          4         113.0         95    2278          15.5    72   \n",
       "72   15.0          8         304.0        150    3892          12.5    72   \n",
       "354  34.5          4         100.0          ?    2320          15.8    81   \n",
       "73   13.0          8         307.0        130    4098          14.0    72   \n",
       "157  15.0          8         350.0        145    4440          14.0    75   \n",
       "153  18.0          6         250.0        105    3459          16.0    75   \n",
       "358  31.6          4         120.0         74    2635          18.3    81   \n",
       "\n",
       "     origin                              name  \n",
       "114       2              fiat 124 sport coupe  \n",
       "278       2               volkswagen scirocco  \n",
       "237       1                chevrolet chevette  \n",
       "57        3             toyota corona hardtop  \n",
       "72        1                  amc matador (sw)  \n",
       "354       2                       renault 18i  \n",
       "73        1  chevrolet chevelle concours (sw)  \n",
       "157       1                 chevrolet bel air  \n",
       "153       1                    chevrolet nova  \n",
       "358       3                         mazda 626  "
      ]
     },
     "execution_count": 31,
     "metadata": {},
     "output_type": "execute_result"
    }
   ],
   "source": [
    "import pandas as pd\n",
    "import numpy as np\n",
    "import statsmodels.api as sm\n",
    "from sklearn.linear_model import LinearRegression\n",
    "\n",
    "import matplotlib.pyplot as plt\n",
    "import seaborn as sns\n",
    "\n",
    "df_auto = pd.read_csv(\"../data/Auto.csv\")\n",
    "df_auto.sample(10, random_state=42)"
   ]
  },
  {
   "cell_type": "code",
   "execution_count": 2,
   "metadata": {
    "ExecuteTime": {
     "end_time": "2020-09-11T02:35:28.867745Z",
     "start_time": "2020-09-11T02:35:28.840744Z"
    }
   },
   "outputs": [
    {
     "name": "stderr",
     "output_type": "stream",
     "text": [
      "<ipython-input-2-fbeedd3c171a>:6: SettingWithCopyWarning: \n",
      "A value is trying to be set on a copy of a slice from a DataFrame.\n",
      "Try using .loc[row_indexer,col_indexer] = value instead\n",
      "\n",
      "See the caveats in the documentation: https://pandas.pydata.org/pandas-docs/stable/user_guide/indexing.html#returning-a-view-versus-a-copy\n",
      "  df_auto_hp[\"horsepower\"] = df_auto_hp[\"horsepower\"].astype(\"float64\")\n"
     ]
    }
   ],
   "source": [
    "# Removendo os registros referentes aos registros em HP.\n",
    "df_auto_w_hp = df_auto.loc[~df_auto[\"horsepower\"].str.isnumeric(),:]\n",
    "\n",
    "df_auto_hp = df_auto.loc[df_auto[\"horsepower\"].str.isnumeric(),:]\n",
    "\n",
    "df_auto_hp[\"horsepower\"] = df_auto_hp[\"horsepower\"].astype(\"float64\")"
   ]
  },
  {
   "cell_type": "code",
   "execution_count": 3,
   "metadata": {
    "ExecuteTime": {
     "end_time": "2020-09-11T02:35:29.138581Z",
     "start_time": "2020-09-11T02:35:28.874749Z"
    },
    "tags": []
   },
   "outputs": [
    {
     "name": "stdout",
     "output_type": "stream",
     "text": [
      "                            OLS Regression Results                            \n",
      "==============================================================================\n",
      "Dep. Variable:                      y   R-squared:                       0.606\n",
      "Model:                            OLS   Adj. R-squared:                  0.605\n",
      "Method:                 Least Squares   F-statistic:                     599.7\n",
      "Date:                Thu, 10 Sep 2020   Prob (F-statistic):           7.03e-81\n",
      "Time:                        23:35:29   Log-Likelihood:                -1178.7\n",
      "No. Observations:                 392   AIC:                             2361.\n",
      "Df Residuals:                     390   BIC:                             2369.\n",
      "Df Model:                           1                                         \n",
      "Covariance Type:            nonrobust                                         \n",
      "==============================================================================\n",
      "                 coef    std err          t      P>|t|      [0.025      0.975]\n",
      "------------------------------------------------------------------------------\n",
      "const         39.9359      0.717     55.660      0.000      38.525      41.347\n",
      "x1            -0.1578      0.006    -24.489      0.000      -0.171      -0.145\n",
      "==============================================================================\n",
      "Omnibus:                       16.432   Durbin-Watson:                   0.920\n",
      "Prob(Omnibus):                  0.000   Jarque-Bera (JB):               17.305\n",
      "Skew:                           0.492   Prob(JB):                     0.000175\n",
      "Kurtosis:                       3.299   Cond. No.                         322.\n",
      "==============================================================================\n",
      "\n",
      "Warnings:\n",
      "[1] Standard Errors assume that the covariance matrix of the errors is correctly specified.\n"
     ]
    }
   ],
   "source": [
    "# a)\n",
    "\n",
    "# Adicionando um termo constante:\n",
    "x_horsepower = df_auto_hp.loc[:, \"horsepower\"].values\n",
    "\n",
    "# Definindo fator/preditor/variável de entrada e resposta/variável de saída\n",
    "x_horsepower = sm.add_constant(x_horsepower)\n",
    "y_mpg = df_auto_hp.loc[:, \"mpg\"].values\n",
    "\n",
    "model = sm.OLS(y_mpg, x_horsepower)\n",
    "result = model.fit()\n",
    "\n",
    "print(result.summary())"
   ]
  },
  {
   "cell_type": "markdown",
   "metadata": {},
   "source": [
    "*i, ii e iii)* Há um relacionamento mediano entre o preditor e a resposta. O R² ajustado está em 0,605. O relacionamento entre o preditor e a resposta é negativo."
   ]
  },
  {
   "cell_type": "code",
   "execution_count": 4,
   "metadata": {
    "ExecuteTime": {
     "end_time": "2020-09-11T02:35:29.185584Z",
     "start_time": "2020-09-11T02:35:29.143579Z"
    }
   },
   "outputs": [
    {
     "data": {
      "text/plain": [
       "array([[24.46707715]])"
      ]
     },
     "execution_count": 4,
     "metadata": {},
     "output_type": "execute_result"
    }
   ],
   "source": [
    "model = LinearRegression()\n",
    "model.fit(df_auto_hp[\"horsepower\"].values.reshape(-1,1), y_mpg.reshape(-1,1))\n",
    "\n",
    "x = np.array(98)\n",
    "y_pred = model.predict(x.reshape(1, -1))\n",
    "y_pred"
   ]
  },
  {
   "cell_type": "markdown",
   "metadata": {},
   "source": [
    "# Testando train test splits e seu efeito no erro"
   ]
  },
  {
   "cell_type": "code",
   "execution_count": 10,
   "metadata": {
    "ExecuteTime": {
     "end_time": "2020-09-11T02:42:56.827078Z",
     "start_time": "2020-09-11T02:42:56.810080Z"
    }
   },
   "outputs": [],
   "source": [
    "from sklearn.model_selection import train_test_split\n",
    "from sklearn.metrics import mean_squared_error"
   ]
  },
  {
   "cell_type": "code",
   "execution_count": 53,
   "metadata": {
    "ExecuteTime": {
     "end_time": "2020-09-11T03:05:44.838244Z",
     "start_time": "2020-09-11T03:05:44.369221Z"
    }
   },
   "outputs": [
    {
     "data": {
      "image/png": "[encoded data removed]",
      "text/plain": [
       "<Figure size 432x288 with 1 Axes>"
      ]
     },
     "metadata": {
      "needs_background": "light"
     },
     "output_type": "display_data"
    }
   ],
   "source": [
    "x_horsepower = df_auto_hp.loc[:, \"horsepower\"].values\n",
    "y_mpg = df_auto_hp.loc[:, \"mpg\"].values\n",
    "\n",
    "lst_test_size = np.arange(start=.01, stop=1, step=.025)\n",
    "\n",
    "df_mse = []\n",
    "\n",
    "for i, test_size in enumerate(lst_test_size):\n",
    "    x_train, x_test, y_train, y_test = train_test_split(x_horsepower.reshape(-1, 1), y_mpg,\n",
    "                                                        test_size=test_size, random_state=42)\n",
    "    model = LinearRegression()\n",
    "    model.fit(x_train, y_train)\n",
    "    y_pred = model.predict(x_test)\n",
    "    rmse = mean_squared_error(y_test, y_pred)**.5\n",
    "    # print(f\"{round(test_size, 2):.2f} -- {round(rmse,2):.2f}\")\n",
    "    df_mse.append([round(test_size, 2), rmse])\n",
    "    \n",
    "df_mse = pd.DataFrame(df_mse, columns=[\"test_size\", \"rmse\"])\n",
    "\n",
    "sns.regplot(x=\"test_size\", y=\"rmse\", data=df_mse, order=3);"
   ]
  },
  {
   "cell_type": "code",
   "execution_count": null,
   "metadata": {},
   "outputs": [],
   "source": []
  }
 ],
 "metadata": {
  "hide_input": false,
  "kernelspec": {
   "display_name": "Python 3",
   "language": "python",
   "name": "python3"
  },
  "language_info": {
   "codemirror_mode": {
    "name": "ipython",
    "version": 3
   },
   "file_extension": ".py",
   "mimetype": "text/x-python",
   "name": "python",
   "nbconvert_exporter": "python",
   "pygments_lexer": "ipython3",
   "version": "3.8.3"
  },
  "toc": {
   "base_numbering": 1,
   "nav_menu": {},
   "number_sections": true,
   "sideBar": true,
   "skip_h1_title": false,
   "title_cell": "Table of Contents",
   "title_sidebar": "Contents",
   "toc_cell": false,
   "toc_position": {},
   "toc_section_display": true,
   "toc_window_display": false
  }
 },
 "nbformat": 4,
 "nbformat_minor": 2
}
