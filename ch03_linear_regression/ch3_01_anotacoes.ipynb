{
 "cells": [
  {
   "cell_type": "markdown",
   "metadata": {},
   "source": [
    "# Capítulo 03 - Regressão linear\n",
    "\n",
    "## Regressão linear simples\n",
    "\n",
    "Na regressão linear (seja simples ou múltipla), a questão é encontrar os coeficientes $\\beta s$ que *melhor se ajustam* às observações. Na regressão linear simples, é usado o **método dos mínimos quadrados** para a estimação dos coeficientes $\\beta s$.\n",
    "\n",
    "$$ Y = \\beta_{0} + \\beta_{1}X $$\n",
    "\n",
    "<p class=\"aligncenter\">\n",
    "    <img src=\"../figures/3_rss.png\" alt=\"Soma do quadrado dos resíduos\" width=\"400\">\n",
    "</p>\n",
    "<p style=\"text-align:center\"> Figura 1 - Esquema mostrando uma reta ajustada e os resíduos. Fonte: ISL.</p>\n",
    "\n",
    "**Soma do quadrado dos resíduos**:\n",
    "$$ SQ_{Res} = \\epsilon_{1}^2 + \\epsilon_{2}^2 + ... + \\epsilon_{n}^2 $$\n",
    "\n",
    "$$ SQ_{Res} = (y_{1} - \\hat{\\beta_{0}} - \\hat{\\beta_{1}}x_{1})^2 + (y_{2} - \\hat{\\beta_{0}} - \\hat{\\beta_{1}}x_{2})^2 + ... + (y_{n} - \\hat{\\beta_{0}} - \\hat{\\beta_{1}}x_{n})^2 $$\n",
    "\n",
    "Por fim, temos que os coeficietes são:\n",
    "\n",
    "$$ \\hat{\\beta_{1}} = \\sum_{i=1}^n \\frac{(x_{i}-\\bar{x})(y_{i}-\\bar{y})}{(x_{i}-\\bar{x})^2} $$\n",
    "\n",
    "$$ \\hat{\\beta_{0}} = \\bar{y} - \\hat{\\beta_{1}}\\bar{x}$$\n",
    "\n",
    "Sendo,\n",
    "- $\\bar{x} :$ média de x;\n",
    "- $\\bar{y} :$ média de y."
   ]
  },
  {
   "cell_type": "markdown",
   "metadata": {},
   "source": [
    "### Procedimento Geral para análise de regressão linear simples\n",
    "\n",
    "1. Verificar graficamente (usando um gráfico de disperão) se há relação entre a variável independente e a dependente.\n",
    "\n",
    "2. Encontrar a equação de regressão usando o método dos mínimos quadrados.\n",
    "\n",
    "$$ Y = \\beta_{0} + \\beta_{1}X $$\n",
    "\n",
    "$$ \\hat{\\beta_{1}} = \\sum_{i=1}^n \\frac{(x_{i}-\\bar{x})(y_{i}-\\bar{y})}{(x_{i}-\\bar{x})^2} $$\n",
    "\n",
    "$$ \\hat{\\beta_{0}} = \\bar{y} - \\hat{\\beta_{1}}\\bar{x}$$\n",
    "\n",
    "3. Calcularo coeficiente de correlação de *Pearson* (***R***) e avaliar a população e premissas.\n",
    "\n",
    "- O coeficiente de correlação de Pearson varia de -1 a +1 e avalia a relação entre *x* e *y* medidos com *$\\hat{x}$* e *$\\hat{y}$* estimados.\n",
    "\n",
    "$$ R = \\frac{S_{y\\hat{y}}}{\\sqrt{S_{yy} S_{\\hat{y}\\hat{y}}}} $$\n",
    "\n",
    "$$ R = \\frac{\\sum(y-\\bar{y})(\\hat{y}-\\bar{\\hat{y}})}{\\sqrt{(y-\\bar{y})^2 (\\hat{y}-\\bar{\\hat{y}})^2}} $$\n",
    "\n",
    "- Uma premissa muito importante é a de normalidade dos atributos. Com essa premissa, é possível formular um teste de hipóteses onde a hipótese alternativa é a de que ***o valor da variável dependente em relação a variável independente segue uma distribuição normal com média $ \\beta_{0} + \\beta_{1}x $ e desvio padrão $\\sigma$***.\n",
    "\n",
    "4. Conduzir a análise de variância.\n",
    "\n",
    "- **IMPORTANTE!**: Os passo 4 e 5 só fazem sentido quando queremos fazer inferências sobre uma população através de uma amostra. Quando temos a possibilidade de olhar para a população inteira.\n",
    "\n",
    "5. Calcular intervalo de confiança.\n",
    "\n",
    "6. Fazer uma previsão.\n",
    "- Lembrar que o intervalo de predição é diferente de intervalo de confiança e de que é um valor maior."
   ]
  },
  {
   "cell_type": "markdown",
   "metadata": {},
   "source": [
    "## Regressão linear múltipla\n",
    "\n",
    "É uma extensão da regressão linear simples. Nessa regressão, há a participação de mais de um fator/preditor.\n",
    "\n",
    "## Outras considerações no modelo de regressão\n",
    "\n",
    "### Preditores qualitativos\n",
    "\n",
    "### Extensões do modelo linear\n",
    "\n",
    "### Problemas potenciais\n",
    "\n",
    "## Comparação da regressão linear com K-vizinhos mais próximos:\n",
    "\n"
   ]
  },
  {
   "cell_type": "code",
   "execution_count": null,
   "metadata": {},
   "outputs": [],
   "source": []
  }
 ],
 "metadata": {
  "hide_input": false,
  "kernelspec": {
   "display_name": "Python 3",
   "language": "python",
   "name": "python3"
  },
  "language_info": {
   "codemirror_mode": {
    "name": "ipython",
    "version": 3
   },
   "file_extension": ".py",
   "mimetype": "text/x-python",
   "name": "python",
   "nbconvert_exporter": "python",
   "pygments_lexer": "ipython3",
   "version": "3.8.5"
  },
  "latex_envs": {
   "LaTeX_envs_menu_present": true,
   "autoclose": false,
   "autocomplete": true,
   "bibliofile": "biblio.bib",
   "cite_by": "apalike",
   "current_citInitial": 1,
   "eqLabelWithNumbers": true,
   "eqNumInitial": 1,
   "hotkeys": {
    "equation": "Ctrl-E",
    "itemize": "Ctrl-I"
   },
   "labels_anchors": false,
   "latex_user_defs": false,
   "report_style_numbering": false,
   "user_envs_cfg": false
  },
  "toc": {
   "base_numbering": 1,
   "nav_menu": {},
   "number_sections": true,
   "sideBar": true,
   "skip_h1_title": false,
   "title_cell": "Table of Contents",
   "title_sidebar": "Contents",
   "toc_cell": false,
   "toc_position": {},
   "toc_section_display": true,
   "toc_window_display": false
  }
 },
 "nbformat": 4,
 "nbformat_minor": 2
}
