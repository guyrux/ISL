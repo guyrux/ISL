{
 "cells": [
  {
   "cell_type": "markdown",
   "metadata": {},
   "source": [
    "# Capítulo 03 - Regressão linear\n",
    "\n",
    "## Regressão linear simples\n",
    "\n",
    "Na regressão linear (seja simples ou múltipla), a questão é encontrar os coeficientes $\\beta s$ que *melhor se ajustam* às observações. Na regressão linear simples, é usado o **método dos mínimos quadrados** para a estimação dos coeficientes $\\beta s$.\n",
    "\n",
    "$$ Y = \\beta_{0} + \\beta_{1}X $$\n",
    "\n",
    "<p class=\"aligncenter\">\n",
    "    <img src=\"../figures/3_rss.png\" alt=\"Soma do quadrado dos resíduos\" width=\"400\">\n",
    "</p>\n",
    "<p style=\"text-align:center\"> Figura 1 - Esquema mostrando uma reta ajustada e os resíduos. Fonte: ISL.</p>\n",
    "\n",
    "**Soma do quadrado dos resíduos**:\n",
    "$$ SQ_{Res} = \\epsilon_{1}^2 + \\epsilon_{2}^2 + ... + \\epsilon_{n}^2 $$\n",
    "\n",
    "$$ SQ_{Res} = (y_{1} - \\hat{\\beta_{0}} - \\hat{\\beta_{1}}x_{1})^2 + (y_{2} - \\hat{\\beta_{0}} - \\hat{\\beta_{1}}x_{2})^2 + ... + (y_{n} - \\hat{\\beta_{0}} - \\hat{\\beta_{1}}x_{n})^2 $$\n",
    "\n",
    "Por fim, temos que os coeficietes são:\n",
    "\n",
    "$$ \\hat{\\beta_{1}} = \\sum_{i=1}^n \\frac{(x_{i}-\\bar{x})(y_{i}-\\bar{y})}{(x_{i}-\\bar{x})^2} $$\n",
    "\n",
    "$$ \\hat{\\beta_{0}} = \\bar{y} - \\hat{\\beta_{1}}\\bar{x}$$\n",
    "\n",
    "Sendo,\n",
    "- $\\bar{x} :$ média de x;\n",
    "- $\\bar{y} :$ média de y.\n",
    "\n",
    "\n",
    "## Regressão linear múltipla\n",
    "\n",
    "É uma extensão da regressão linear. Consegue ajustar dados não lineares através da adição de fatores elevados até uma determinada potência.\n",
    "\n",
    "## Outras considerações no modelo de regressão\n",
    "\n",
    "### Preditores qualitativos\n",
    "\n",
    "### Extensões do modelo linear\n",
    "\n",
    "### Problemas potenciais\n",
    "\n",
    "## Comparação da regressão linear com K-vizinhos mais próximos:\n",
    "\n"
   ]
  },
  {
   "cell_type": "code",
   "execution_count": null,
   "metadata": {},
   "outputs": [],
   "source": []
  }
 ],
 "metadata": {
  "hide_input": false,
  "kernelspec": {
   "display_name": "Python 3",
   "language": "python",
   "name": "python3"
  },
  "language_info": {
   "codemirror_mode": {
    "name": "ipython",
    "version": 3
   },
   "file_extension": ".py",
   "mimetype": "text/x-python",
   "name": "python",
   "nbconvert_exporter": "python",
   "pygments_lexer": "ipython3",
   "version": "3.8.3"
  },
  "latex_envs": {
   "LaTeX_envs_menu_present": true,
   "autoclose": false,
   "autocomplete": true,
   "bibliofile": "biblio.bib",
   "cite_by": "apalike",
   "current_citInitial": 1,
   "eqLabelWithNumbers": true,
   "eqNumInitial": 1,
   "hotkeys": {
    "equation": "Ctrl-E",
    "itemize": "Ctrl-I"
   },
   "labels_anchors": false,
   "latex_user_defs": false,
   "report_style_numbering": false,
   "user_envs_cfg": false
  },
  "toc": {
   "base_numbering": 1,
   "nav_menu": {},
   "number_sections": true,
   "sideBar": true,
   "skip_h1_title": false,
   "title_cell": "Table of Contents",
   "title_sidebar": "Contents",
   "toc_cell": false,
   "toc_position": {},
   "toc_section_display": true,
   "toc_window_display": false
  }
 },
 "nbformat": 4,
 "nbformat_minor": 2
}
