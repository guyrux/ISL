{
 "cells": [
  {
   "cell_type": "markdown",
   "metadata": {},
   "source": [
    "# Capítulo 08 - Métodos baseados em árvore\n",
    "\n",
    "## Comparando:\n",
    "\n",
    "1. Árvores de decisão\n",
    "2. Bagging\n",
    "3. Random forest\n",
    "4. Boosting - Gradient Tree Boosting\n"
   ]
  },
  {
   "cell_type": "code",
   "execution_count": 5,
   "metadata": {
    "ExecuteTime": {
     "end_time": "2021-07-29T01:43:25.580549Z",
     "start_time": "2021-07-29T01:43:25.564547Z"
    }
   },
   "outputs": [],
   "source": [
    "import os\n",
    "\n",
    "from feature_engine.encoding import CountFrequencyEncoder\n",
    "# import matplotlib.pyplot as plt\n",
    "import numpy as np\n",
    "import pandas as pd\n",
    "from sklearn.ensemble import RandomForestClassifier as rf\n",
    "from sklearn.ensemble import GradientBoostingClassifier as gb\n",
    "from sklearn.metrics import accuracy_score, f1_score, roc_auc_score, precision_score, recall_score\n",
    "from sklearn.model_selection import train_test_split\n",
    "from sklearn.tree import DecisionTreeClassifier as dt\n",
    "from sklearn.pipeline import Pipeline\n",
    "\n",
    "\n",
    "os.chdir('../')\n",
    "from src.data_describe import DataDescribe as dd\n",
    "os.chdir('./ch08_tree_based_methods/')"
   ]
  },
  {
   "cell_type": "code",
   "execution_count": 6,
   "metadata": {
    "ExecuteTime": {
     "end_time": "2021-07-29T01:43:26.982431Z",
     "start_time": "2021-07-29T01:43:26.892723Z"
    }
   },
   "outputs": [
    {
     "name": "stdout",
     "output_type": "stream",
     "text": [
      "df.shape: (303, 14)\n"
     ]
    },
    {
     "data": {
      "text/html": [
       "<div>\n",
       "<style scoped>\n",
       "    .dataframe tbody tr th:only-of-type {\n",
       "        vertical-align: middle;\n",
       "    }\n",
       "\n",
       "    .dataframe tbody tr th {\n",
       "        vertical-align: top;\n",
       "    }\n",
       "\n",
       "    .dataframe thead th {\n",
       "        text-align: right;\n",
       "    }\n",
       "</style>\n",
       "<table border=\"1\" class=\"dataframe\">\n",
       "  <thead>\n",
       "    <tr style=\"text-align: right;\">\n",
       "      <th></th>\n",
       "      <th>Age</th>\n",
       "      <th>Sex</th>\n",
       "      <th>ChestPain</th>\n",
       "      <th>RestBP</th>\n",
       "      <th>Chol</th>\n",
       "      <th>Fbs</th>\n",
       "      <th>RestECG</th>\n",
       "      <th>MaxHR</th>\n",
       "      <th>ExAng</th>\n",
       "      <th>Oldpeak</th>\n",
       "      <th>Slope</th>\n",
       "      <th>Ca</th>\n",
       "      <th>Thal</th>\n",
       "      <th>AHD</th>\n",
       "    </tr>\n",
       "  </thead>\n",
       "  <tbody>\n",
       "    <tr>\n",
       "      <th>1</th>\n",
       "      <td>63</td>\n",
       "      <td>1</td>\n",
       "      <td>typical</td>\n",
       "      <td>145</td>\n",
       "      <td>233</td>\n",
       "      <td>1</td>\n",
       "      <td>2</td>\n",
       "      <td>150</td>\n",
       "      <td>0</td>\n",
       "      <td>2.3</td>\n",
       "      <td>3</td>\n",
       "      <td>0.0</td>\n",
       "      <td>fixed</td>\n",
       "      <td>No</td>\n",
       "    </tr>\n",
       "    <tr>\n",
       "      <th>2</th>\n",
       "      <td>67</td>\n",
       "      <td>1</td>\n",
       "      <td>asymptomatic</td>\n",
       "      <td>160</td>\n",
       "      <td>286</td>\n",
       "      <td>0</td>\n",
       "      <td>2</td>\n",
       "      <td>108</td>\n",
       "      <td>1</td>\n",
       "      <td>1.5</td>\n",
       "      <td>2</td>\n",
       "      <td>3.0</td>\n",
       "      <td>normal</td>\n",
       "      <td>Yes</td>\n",
       "    </tr>\n",
       "    <tr>\n",
       "      <th>3</th>\n",
       "      <td>67</td>\n",
       "      <td>1</td>\n",
       "      <td>asymptomatic</td>\n",
       "      <td>120</td>\n",
       "      <td>229</td>\n",
       "      <td>0</td>\n",
       "      <td>2</td>\n",
       "      <td>129</td>\n",
       "      <td>1</td>\n",
       "      <td>2.6</td>\n",
       "      <td>2</td>\n",
       "      <td>2.0</td>\n",
       "      <td>reversable</td>\n",
       "      <td>Yes</td>\n",
       "    </tr>\n",
       "    <tr>\n",
       "      <th>4</th>\n",
       "      <td>37</td>\n",
       "      <td>1</td>\n",
       "      <td>nonanginal</td>\n",
       "      <td>130</td>\n",
       "      <td>250</td>\n",
       "      <td>0</td>\n",
       "      <td>0</td>\n",
       "      <td>187</td>\n",
       "      <td>0</td>\n",
       "      <td>3.5</td>\n",
       "      <td>3</td>\n",
       "      <td>0.0</td>\n",
       "      <td>normal</td>\n",
       "      <td>No</td>\n",
       "    </tr>\n",
       "    <tr>\n",
       "      <th>5</th>\n",
       "      <td>41</td>\n",
       "      <td>0</td>\n",
       "      <td>nontypical</td>\n",
       "      <td>130</td>\n",
       "      <td>204</td>\n",
       "      <td>0</td>\n",
       "      <td>2</td>\n",
       "      <td>172</td>\n",
       "      <td>0</td>\n",
       "      <td>1.4</td>\n",
       "      <td>1</td>\n",
       "      <td>0.0</td>\n",
       "      <td>normal</td>\n",
       "      <td>No</td>\n",
       "    </tr>\n",
       "  </tbody>\n",
       "</table>\n",
       "</div>"
      ],
      "text/plain": [
       "   Age  Sex     ChestPain  RestBP  Chol  Fbs  RestECG  MaxHR  ExAng  Oldpeak  \\\n",
       "1   63    1       typical     145   233    1        2    150      0      2.3   \n",
       "2   67    1  asymptomatic     160   286    0        2    108      1      1.5   \n",
       "3   67    1  asymptomatic     120   229    0        2    129      1      2.6   \n",
       "4   37    1    nonanginal     130   250    0        0    187      0      3.5   \n",
       "5   41    0    nontypical     130   204    0        2    172      0      1.4   \n",
       "\n",
       "   Slope   Ca        Thal  AHD  \n",
       "1      3  0.0       fixed   No  \n",
       "2      2  3.0      normal  Yes  \n",
       "3      2  2.0  reversable  Yes  \n",
       "4      3  0.0      normal   No  \n",
       "5      1  0.0      normal   No  "
      ]
     },
     "execution_count": 6,
     "metadata": {},
     "output_type": "execute_result"
    }
   ],
   "source": [
    "df = pd.read_csv('../data/Heart.csv', index_col=0)\n",
    "\n",
    "print(f\"df.shape: {df.shape}\")\n",
    "df.head()"
   ]
  },
  {
   "cell_type": "code",
   "execution_count": 7,
   "metadata": {
    "ExecuteTime": {
     "end_time": "2021-07-29T01:43:27.347427Z",
     "start_time": "2021-07-29T01:43:27.227428Z"
    }
   },
   "outputs": [
    {
     "data": {
      "text/plain": [
       "Ca      4\n",
       "Thal    2\n",
       "dtype: int64"
      ]
     },
     "execution_count": 7,
     "metadata": {},
     "output_type": "execute_result"
    }
   ],
   "source": [
    "# Quantidade de nulos\n",
    "df_copy = df.copy()\n",
    "df_copy.dropna(axis=0, how='any', inplace=True)\n",
    "\n",
    "df.isnull().sum()[df.isnull().sum()>0]"
   ]
  },
  {
   "cell_type": "code",
   "execution_count": 8,
   "metadata": {
    "ExecuteTime": {
     "end_time": "2021-07-29T01:43:27.713937Z",
     "start_time": "2021-07-29T01:43:27.667937Z"
    }
   },
   "outputs": [
    {
     "data": {
      "text/html": [
       "<div>\n",
       "<style scoped>\n",
       "    .dataframe tbody tr th:only-of-type {\n",
       "        vertical-align: middle;\n",
       "    }\n",
       "\n",
       "    .dataframe tbody tr th {\n",
       "        vertical-align: top;\n",
       "    }\n",
       "\n",
       "    .dataframe thead th {\n",
       "        text-align: right;\n",
       "    }\n",
       "</style>\n",
       "<table border=\"1\" class=\"dataframe\">\n",
       "  <thead>\n",
       "    <tr style=\"text-align: right;\">\n",
       "      <th></th>\n",
       "      <th>Atributo</th>\n",
       "      <th>Cardinalidade</th>\n",
       "      <th>Valores</th>\n",
       "    </tr>\n",
       "  </thead>\n",
       "  <tbody>\n",
       "    <tr>\n",
       "      <th>7</th>\n",
       "      <td>AHD</td>\n",
       "      <td>2</td>\n",
       "      <td>[No, Yes]</td>\n",
       "    </tr>\n",
       "    <tr>\n",
       "      <th>4</th>\n",
       "      <td>ExAng</td>\n",
       "      <td>2</td>\n",
       "      <td>[0, 1]</td>\n",
       "    </tr>\n",
       "    <tr>\n",
       "      <th>2</th>\n",
       "      <td>Fbs</td>\n",
       "      <td>2</td>\n",
       "      <td>[0, 1]</td>\n",
       "    </tr>\n",
       "    <tr>\n",
       "      <th>0</th>\n",
       "      <td>Sex</td>\n",
       "      <td>2</td>\n",
       "      <td>[0, 1]</td>\n",
       "    </tr>\n",
       "    <tr>\n",
       "      <th>3</th>\n",
       "      <td>RestECG</td>\n",
       "      <td>3</td>\n",
       "      <td>[0, 1, 2]</td>\n",
       "    </tr>\n",
       "    <tr>\n",
       "      <th>5</th>\n",
       "      <td>Slope</td>\n",
       "      <td>3</td>\n",
       "      <td>[1, 2, 3]</td>\n",
       "    </tr>\n",
       "    <tr>\n",
       "      <th>6</th>\n",
       "      <td>Thal</td>\n",
       "      <td>3</td>\n",
       "      <td>[fixed, normal, reversable]</td>\n",
       "    </tr>\n",
       "    <tr>\n",
       "      <th>1</th>\n",
       "      <td>ChestPain</td>\n",
       "      <td>4</td>\n",
       "      <td>[asymptomatic, nonanginal, nontypical, typical]</td>\n",
       "    </tr>\n",
       "  </tbody>\n",
       "</table>\n",
       "</div>"
      ],
      "text/plain": [
       "    Atributo  Cardinalidade                                          Valores\n",
       "7        AHD              2                                        [No, Yes]\n",
       "4      ExAng              2                                           [0, 1]\n",
       "2        Fbs              2                                           [0, 1]\n",
       "0        Sex              2                                           [0, 1]\n",
       "3    RestECG              3                                        [0, 1, 2]\n",
       "5      Slope              3                                        [1, 2, 3]\n",
       "6       Thal              3                      [fixed, normal, reversable]\n",
       "1  ChestPain              4  [asymptomatic, nonanginal, nontypical, typical]"
      ]
     },
     "execution_count": 8,
     "metadata": {},
     "output_type": "execute_result"
    }
   ],
   "source": [
    "df_cardinalidade = dd.cardinalidade(df_copy)\n",
    "lst_int_to_float = df_cardinalidade[df_cardinalidade[\"Cardinalidade\"]>20][\"Atributo\"].tolist()\n",
    "\n",
    "for column in lst_int_to_float:\n",
    "    df_copy[column] = df_copy[column].astype(float)\n",
    "    \n",
    "dd.cardinalidade(df_copy)"
   ]
  },
  {
   "cell_type": "markdown",
   "metadata": {},
   "source": [
    "### Preparando os dados\n",
    "\n",
    "#### Transformando dados categóricos em númericos.\n",
    "\n",
    "Nesse momento, apenas substituiremos as classes de cada atributo categórico pela sua frequência de sua ocorrência."
   ]
  },
  {
   "cell_type": "code",
   "execution_count": 11,
   "metadata": {
    "ExecuteTime": {
     "end_time": "2021-07-29T01:53:12.990194Z",
     "start_time": "2021-07-29T01:53:12.979640Z"
    }
   },
   "outputs": [
    {
     "data": {
      "text/html": [
       "<div>\n",
       "<style scoped>\n",
       "    .dataframe tbody tr th:only-of-type {\n",
       "        vertical-align: middle;\n",
       "    }\n",
       "\n",
       "    .dataframe tbody tr th {\n",
       "        vertical-align: top;\n",
       "    }\n",
       "\n",
       "    .dataframe thead th {\n",
       "        text-align: right;\n",
       "    }\n",
       "</style>\n",
       "<table border=\"1\" class=\"dataframe\">\n",
       "  <thead>\n",
       "    <tr style=\"text-align: right;\">\n",
       "      <th></th>\n",
       "      <th>AHD_binary</th>\n",
       "      <th>AHD</th>\n",
       "    </tr>\n",
       "  </thead>\n",
       "  <tbody>\n",
       "    <tr>\n",
       "      <th>1</th>\n",
       "      <td>0</td>\n",
       "      <td>No</td>\n",
       "    </tr>\n",
       "    <tr>\n",
       "      <th>2</th>\n",
       "      <td>1</td>\n",
       "      <td>Yes</td>\n",
       "    </tr>\n",
       "    <tr>\n",
       "      <th>3</th>\n",
       "      <td>1</td>\n",
       "      <td>Yes</td>\n",
       "    </tr>\n",
       "    <tr>\n",
       "      <th>4</th>\n",
       "      <td>0</td>\n",
       "      <td>No</td>\n",
       "    </tr>\n",
       "    <tr>\n",
       "      <th>5</th>\n",
       "      <td>0</td>\n",
       "      <td>No</td>\n",
       "    </tr>\n",
       "  </tbody>\n",
       "</table>\n",
       "</div>"
      ],
      "text/plain": [
       "   AHD_binary  AHD\n",
       "1           0   No\n",
       "2           1  Yes\n",
       "3           1  Yes\n",
       "4           0   No\n",
       "5           0   No"
      ]
     },
     "execution_count": 11,
     "metadata": {},
     "output_type": "execute_result"
    }
   ],
   "source": [
    "df_copy[\"AHD_binary\"] = np.where(df_copy[\"AHD\"]==\"No\", 0, 1)\n",
    "df_copy[[\"AHD_binary\", \"AHD\"]].head()"
   ]
  },
  {
   "cell_type": "code",
   "execution_count": 15,
   "metadata": {
    "ExecuteTime": {
     "end_time": "2021-07-29T01:56:57.146886Z",
     "start_time": "2021-07-29T01:56:57.142100Z"
    }
   },
   "outputs": [],
   "source": [
    "X = df_copy.drop(labels=[\"AHD_binary\", \"AHD\"], axis=1)\n",
    "y = df_copy[\"AHD_binary\"]"
   ]
  },
  {
   "cell_type": "code",
   "execution_count": 18,
   "metadata": {
    "ExecuteTime": {
     "end_time": "2021-07-29T02:03:37.338725Z",
     "start_time": "2021-07-29T02:03:37.313358Z"
    }
   },
   "outputs": [
    {
     "data": {
      "text/plain": [
       "{'Thal': {'normal': 0.5507246376811594,\n",
       "  'reversable': 0.391304347826087,\n",
       "  'fixed': 0.057971014492753624},\n",
       " 'ChestPain': {'asymptomatic': 0.4927536231884058,\n",
       "  'nonanginal': 0.28502415458937197,\n",
       "  'nontypical': 0.14009661835748793,\n",
       "  'typical': 0.0821256038647343}}"
      ]
     },
     "execution_count": 18,
     "metadata": {},
     "output_type": "execute_result"
    }
   ],
   "source": [
    "# Separate into train and test sets\n",
    "X_train, X_test, y_train, y_test = train_test_split(X, y, test_size=0.3, random_state=42)\n",
    "\n",
    "encoder = CountFrequencyEncoder(encoding_method='frequency', variables=['Thal', 'ChestPain'])\n",
    "\n",
    "encoder.fit(X_train)\n",
    "\n",
    "X_train = encoder.transform(X_train)\n",
    "X_test = encoder.transform(X_test)\n",
    "\n",
    "encoder.encoder_dict_"
   ]
  },
  {
   "cell_type": "markdown",
   "metadata": {},
   "source": [
    "### Aplicando os modelos"
   ]
  },
  {
   "cell_type": "code",
   "execution_count": 27,
   "metadata": {
    "ExecuteTime": {
     "end_time": "2021-07-29T02:09:28.924373Z",
     "start_time": "2021-07-29T02:09:28.904336Z"
    }
   },
   "outputs": [
    {
     "name": "stdout",
     "output_type": "stream",
     "text": [
      "Accuracy: 0.71\n",
      "F1_score: 0.7\n",
      "ROC_auc_score: 0.71\n",
      "Precision_score: 0.67\n",
      "Recall_score: 0.73\n",
      "\n"
     ]
    }
   ],
   "source": [
    "# Decision Tree\n",
    "model = dt()\n",
    "\n",
    "model.fit(X_train, y_train)\n",
    "\n",
    "y_pred = model.predict(X_test)\n",
    "\n",
    "print(f\"\"\"Accuracy: {round(accuracy_score(y_test, y_pred), 2)}\n",
    "F1_score: {round(f1_score(y_test, y_pred), 2)}\n",
    "ROC_auc_score: {round(roc_auc_score(y_test, y_pred), 2)}\n",
    "Precision_score: {round(precision_score(y_test, y_pred), 2)}\n",
    "Recall_score: {round(recall_score(y_test, y_pred), 2)}\n",
    "\"\"\")"
   ]
  },
  {
   "cell_type": "code",
   "execution_count": 28,
   "metadata": {
    "ExecuteTime": {
     "end_time": "2021-07-29T02:09:36.557315Z",
     "start_time": "2021-07-29T02:09:36.423493Z"
    }
   },
   "outputs": [
    {
     "name": "stdout",
     "output_type": "stream",
     "text": [
      "Accuracy: 0.82\n",
      "F1_score: 0.8\n",
      "ROC_auc_score: 0.82\n",
      "Precision_score: 0.8\n",
      "Recall_score: 0.8\n",
      "\n"
     ]
    }
   ],
   "source": [
    "# Bagging\n",
    "model = rf(max_features=None)\n",
    "\n",
    "model.fit(X_train, y_train)\n",
    "\n",
    "y_pred = model.predict(X_test)\n",
    "\n",
    "print(f\"\"\"Accuracy: {round(accuracy_score(y_test, y_pred), 2)}\n",
    "F1_score: {round(f1_score(y_test, y_pred), 2)}\n",
    "ROC_auc_score: {round(roc_auc_score(y_test, y_pred), 2)}\n",
    "Precision_score: {round(precision_score(y_test, y_pred), 2)}\n",
    "Recall_score: {round(recall_score(y_test, y_pred), 2)}\n",
    "\"\"\")"
   ]
  },
  {
   "cell_type": "code",
   "execution_count": 30,
   "metadata": {
    "ExecuteTime": {
     "end_time": "2021-07-29T02:10:10.392487Z",
     "start_time": "2021-07-29T02:10:10.259331Z"
    }
   },
   "outputs": [
    {
     "name": "stdout",
     "output_type": "stream",
     "text": [
      "Accuracy: 0.86\n",
      "F1_score: 0.83\n",
      "ROC_auc_score: 0.85\n",
      "Precision_score: 0.89\n",
      "Recall_score: 0.78\n",
      "\n"
     ]
    }
   ],
   "source": [
    "# Random forest\n",
    "model = rf(max_features='sqrt')\n",
    "\n",
    "model.fit(X_train, y_train)\n",
    "\n",
    "y_pred = model.predict(X_test)\n",
    "\n",
    "print(f\"\"\"Accuracy: {round(accuracy_score(y_test, y_pred), 2)}\n",
    "F1_score: {round(f1_score(y_test, y_pred), 2)}\n",
    "ROC_auc_score: {round(roc_auc_score(y_test, y_pred), 2)}\n",
    "Precision_score: {round(precision_score(y_test, y_pred), 2)}\n",
    "Recall_score: {round(recall_score(y_test, y_pred), 2)}\n",
    "\"\"\")"
   ]
  },
  {
   "cell_type": "code",
   "execution_count": 31,
   "metadata": {
    "ExecuteTime": {
     "end_time": "2021-07-29T02:10:40.178095Z",
     "start_time": "2021-07-29T02:10:40.100581Z"
    }
   },
   "outputs": [
    {
     "name": "stdout",
     "output_type": "stream",
     "text": [
      "Accuracy: 0.82\n",
      "F1_score: 0.81\n",
      "ROC_auc_score: 0.82\n",
      "Precision_score: 0.79\n",
      "Recall_score: 0.83\n",
      "\n"
     ]
    }
   ],
   "source": [
    "# Gradient boosting\n",
    "model = gb()\n",
    "\n",
    "model.fit(X_train, y_train)\n",
    "\n",
    "y_pred = model.predict(X_test)\n",
    "\n",
    "print(f\"\"\"Accuracy: {round(accuracy_score(y_test, y_pred), 2)}\n",
    "F1_score: {round(f1_score(y_test, y_pred), 2)}\n",
    "ROC_auc_score: {round(roc_auc_score(y_test, y_pred), 2)}\n",
    "Precision_score: {round(precision_score(y_test, y_pred), 2)}\n",
    "Recall_score: {round(recall_score(y_test, y_pred), 2)}\n",
    "\"\"\")"
   ]
  },
  {
   "cell_type": "code",
   "execution_count": null,
   "metadata": {},
   "outputs": [],
   "source": []
  }
 ],
 "metadata": {
  "hide_input": false,
  "kernelspec": {
   "display_name": "Python 3",
   "language": "python",
   "name": "python3"
  },
  "language_info": {
   "codemirror_mode": {
    "name": "ipython",
    "version": 3
   },
   "file_extension": ".py",
   "mimetype": "text/x-python",
   "name": "python",
   "nbconvert_exporter": "python",
   "pygments_lexer": "ipython3",
   "version": "3.8.5"
  },
  "toc": {
   "base_numbering": 1,
   "nav_menu": {},
   "number_sections": true,
   "sideBar": true,
   "skip_h1_title": false,
   "title_cell": "Table of Contents",
   "title_sidebar": "Contents",
   "toc_cell": false,
   "toc_position": {},
   "toc_section_display": true,
   "toc_window_display": false
  }
 },
 "nbformat": 4,
 "nbformat_minor": 4
}
