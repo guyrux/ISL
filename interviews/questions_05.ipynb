{
 "cells": [
  {
   "cell_type": "markdown",
   "metadata": {},
   "source": [
    "# Estatística\n",
    "\n",
    "## O que é a função densidade de probabilidade e distribuição acumulada?\n",
    "\n",
    "A função densidade de probabilidade nos dá a forma de como os valores de uma determinada características se distribuem. Uma característica importante da função de densidade de probabilidade é a que sua integral corresponde a 1, ou seja, o espaço amostral inteiro.\n",
    "\n",
    "Já a distribuição acumulada é a integral da função de densidade de probabilidade no intervalo $[-\\infty;x]$."
   ]
  },
  {
   "cell_type": "markdown",
   "metadata": {},
   "source": [
    "## Quais são as principais distribuições (Normal, Bernoulli, Binomial, Uniforme, Poisson, Geométrica), seus usos e suas propriedades de distribuições (médias, medianas, quartis, moda, variância, etc.)."
   ]
  },
  {
   "cell_type": "markdown",
   "metadata": {},
   "source": [
    "## Como funcionam os testes de hipóteses?\n",
    "\n",
    "Nos testes de hipótese ou testes de hipótese estatística (no seu nome completo), deseja-se verificar se uma determinada hipótese é possível. Para isso, desenham-se duas hipóteses:\n",
    "- a $H_{0}$: chamada de hipótese nula, sendo esta a situação mais conservadora; e\n",
    "- a $H_{1}$: chamada de hipótese alternativa, sendo esta a situação que queremos verificar possível.\n",
    "\n",
    "E compara-se um nível de significância escolhido arbitrariamente, usualmente $\\alpha = 0,05$ com uma estatística de teste. Por fim, ***rejeita-se a hipótese nula*** ou ***declara-se que não é possível rejeitar a hipótese nula***.\n",
    "\n",
    "Existem diferentes tipos de testes de hipótese:\n",
    "\n",
    "|Nome|Aplicação|\n",
    "|:-|:-|\n",
    "|Teste chi² de independência|Variável independente e variável dependente são categóricas.|\n",
    "|Teste de taxa de correlação||\n",
    "|Teste de correlação||\n",
    "|Teste de diferença entre médias populacionais||\n",
    "|Teste de diferença entre proporções populacionais||\n",
    "\n",
    "\n",
    "O procedimento para um teste de hipótese é:\n",
    "\n",
    "1. Definir a população;\n",
    "1. Determinar a hipótese nula e a hipótese alternativa;\n",
    "1. Selecionar qual teste de hipótese utilizar;\n",
    "1. Determinar o nível de significância;\n",
    "1. Obter a estatítica de teste através dos dados da amostra;\n",
    "1. Determinar se a estatística de teste está na área crítica;\n",
    "1. Se a estatística de teste estiver na região crítica, rejeita-se a hipótese nula. Caso contrário, não é possível rejeitar a hipótese nula.\n",
    "\n",
    "### Exemplo de teste de hipótese:"
   ]
  },
  {
   "cell_type": "markdown",
   "metadata": {},
   "source": [
    "# Álgebra linear\n",
    "\n",
    "Matrizes e vetores\n",
    "Álgebra matricial\n",
    "Distâncias e produto interno"
   ]
  },
  {
   "cell_type": "markdown",
   "metadata": {},
   "source": [
    "# Avaliação de modelos\n",
    "\n",
    "## Métricas de avaliação de modelo: KS, Gini, AUC, RMSE, MAE, F1, Recall, Precision, R²\n",
    "\n",
    "As métricas de avaliação podem ser divididas pelo tipo de problema onde são empregadas:\n",
    "\n",
    "**1. Problemas de Classificação:**\n",
    "\n",
    "KS, AUC e Gini foram consultados em [Datariisk](https://ajuda.datarisk.io/knowledge/o-que-s%C3%A3o-ks-auc-e-gini):\n",
    "\n",
    "- **KS**: A métrica de Kolgomorov-Smirnov (KS) quantifica a distância entre as curvas de duas funções de probabilidade acumuladas. O KS assume valores entre 0 e 1, e é definido como o máximo entre as distâncias dessas curvas. Essa métrica é utilizada para medir o quão bem o modelo separa as classes da variável resposta (0 ou 1, bom ou mau, sim ou não). Valores de KS próximos de 1 indicam que o modelo separa bem as classes.\n",
    "\n",
    "- **AUC**: É a área entre curvas 0 e 1. É uma métrica que mede o quão bem o modelo separa as classes da variável resposta baseado na sua distribuição acumulada. Valores maiores são melhores.\n",
    "\n",
    "- **GINI**: É uma métrica que mede o quão bem o modelo separa as classes da variável resposta baseado na taxa de verdadeiros-positivos contra a taxa de falsos-positivos. Valores maiores são melhores. O AUC se relaciona com o GINI da seguinte forma: GINI = 2*AUC - 1.\n",
    "\n",
    "- **F1**: é a média harmônica entre **recall** e **precisão**:\n",
    "\n",
    "$$ F1 = \\frac{2*recall*precisão}{recall+precisão} $$\n",
    "\n",
    "- **Recall**: representa a proporção de classificações de uma classe que foram preditas corretamente:\n",
    "\n",
    "$$ recall = \\frac{VP}{VP+FN} $$\n",
    "\n",
    "- **Precisão**: representa a proporção de classificações que foram preditas corretamente \n",
    "\n",
    "$$ Precisão = \\frac{VP}{VP+FP} $$\n",
    "\n",
    "**2. Problemas de Regressão:**\n",
    "\n",
    "- RMSE: é a raiz do erro quadrático médio:\n",
    "\n",
    "$$ RMSE = \\frac{1}{n}\\sqrt{\\sum_{0}^n(\\hat{y_{i}}-y_{i})^2} $$\n",
    "\n",
    "- MAE: é o erro absoluto médio:\n",
    "\n",
    "$$ MAE = \\frac{1}{n}\\mid{\\hat{y_{i}}-y_{i}}\\mid $$\n",
    "\n",
    "- R²:\n",
    "\n"
   ]
  },
  {
   "cell_type": "markdown",
   "metadata": {},
   "source": [
    "## Validação holdout, leave one out, k-fold, out of sample, out of time"
   ]
  },
  {
   "cell_type": "markdown",
   "metadata": {},
   "source": [
    "# Data prep\n",
    "\n",
    "## Quais os principais problemas de qualidade de dados?\n",
    "\n",
    "- Dados faltantes ou *missing values*: ;\n",
    "- Dados duplicados: ;\n",
    "- Classes desbalanceadas;"
   ]
  },
  {
   "cell_type": "markdown",
   "metadata": {},
   "source": [
    "## Como tratar *missing values*? E como tratar *outliers*?"
   ]
  },
  {
   "cell_type": "markdown",
   "metadata": {},
   "source": [
    "## Como categorizar variáveis contínuas e discretas?"
   ]
  },
  {
   "cell_type": "markdown",
   "metadata": {},
   "source": [
    "## Como funciona o PCA?"
   ]
  },
  {
   "cell_type": "markdown",
   "metadata": {},
   "source": [
    "## Como determinar a correlação/associação entre dados contínuos e entre dados discretos?"
   ]
  },
  {
   "cell_type": "markdown",
   "metadata": {},
   "source": [
    "# Agrupamentos\n",
    "\n",
    "## Como funcionam os algoritmos k-means e k-medoids?"
   ]
  },
  {
   "cell_type": "markdown",
   "metadata": {},
   "source": [
    "## Como funciona o DBScan?"
   ]
  },
  {
   "cell_type": "markdown",
   "metadata": {},
   "source": [
    "## Como funcionam os algoritmos hierárquicos?"
   ]
  },
  {
   "cell_type": "markdown",
   "metadata": {},
   "source": [
    "## Quais são e como funcionam as principais estratégias de definição de *clusters* (joelho/elbow, silhueta, distância intra-cluster, etc.)?"
   ]
  },
  {
   "cell_type": "markdown",
   "metadata": {},
   "source": [
    "## Como funciona o Gaussian Mixture Model?"
   ]
  },
  {
   "cell_type": "markdown",
   "metadata": {},
   "source": [
    "# Classificação\n",
    "\n",
    "## Como funciona a regressão logística?"
   ]
  },
  {
   "cell_type": "markdown",
   "metadata": {},
   "source": [
    "## Como funciona o algoritmo Naive Bayes? Qual a diferença entre uma distribuição Gaussina e de Bernouilli?"
   ]
  },
  {
   "cell_type": "markdown",
   "metadata": {},
   "source": [
    "## Como funciona o kNN?"
   ]
  },
  {
   "cell_type": "markdown",
   "metadata": {},
   "source": [
    "## Como funciona a árvore de decisão?"
   ]
  },
  {
   "cell_type": "markdown",
   "metadata": {},
   "source": [
    "## Como funciona a rondom forest?"
   ]
  },
  {
   "cell_type": "markdown",
   "metadata": {},
   "source": [
    "## Como funciona a estratégias de boosting? Como funciona o gradient boosting, Ada boosting...?"
   ]
  },
  {
   "cell_type": "markdown",
   "metadata": {},
   "source": [
    "## Como funcionam as redes neurais?"
   ]
  },
  {
   "cell_type": "markdown",
   "metadata": {},
   "source": [
    "## Como funciona o algoritmo SVM?"
   ]
  },
  {
   "cell_type": "markdown",
   "metadata": {},
   "source": [
    "# Regressão\n",
    "\n",
    "## Como funciona a regressão linear?"
   ]
  },
  {
   "cell_type": "markdown",
   "metadata": {},
   "source": [
    "## Como funcionam as regularizações L1 e L2?"
   ]
  },
  {
   "cell_type": "markdown",
   "metadata": {},
   "source": [
    "## Como funciona a árvore de regressão?"
   ]
  },
  {
   "cell_type": "markdown",
   "metadata": {},
   "source": [
    "## Explique o que é a análise de resíduos."
   ]
  },
  {
   "cell_type": "markdown",
   "metadata": {},
   "source": [
    "# Banco de dados\n",
    "\n",
    "## Explique o que são bancos de dados relacionais.\n",
    "\n",
    "- Sintaxe de SQL\n",
    "- Álgebra relacional (join, group by, order by, e etc.)\n",
    "- chaves primárias, secundárias e estrangeiras."
   ]
  },
  {
   "cell_type": "markdown",
   "metadata": {},
   "source": [
    "# Outros\n",
    "\n",
    "- Hadoop e hive\n",
    "- Spark e pyspark\n",
    "- redes complexas e teorias de grafos\n",
    "- ensemble modeling\n",
    "- análise de séries temporais\n",
    "- detecção de anomalias\n",
    "- text mining\n",
    "- deep learning e tensor flow\n",
    "- reconhecimento de imagens\n",
    "- speech analytics"
   ]
  }
 ],
 "metadata": {
  "hide_input": false,
  "kernelspec": {
   "display_name": "Python 3",
   "language": "python",
   "name": "python3"
  },
  "language_info": {
   "codemirror_mode": {
    "name": "ipython",
    "version": 3
   },
   "file_extension": ".py",
   "mimetype": "text/x-python",
   "name": "python",
   "nbconvert_exporter": "python",
   "pygments_lexer": "ipython3",
   "version": "3.8.5"
  },
  "toc": {
   "base_numbering": 1,
   "nav_menu": {},
   "number_sections": true,
   "sideBar": true,
   "skip_h1_title": false,
   "title_cell": "Table of Contents",
   "title_sidebar": "Contents",
   "toc_cell": false,
   "toc_position": {},
   "toc_section_display": true,
   "toc_window_display": false
  }
 },
 "nbformat": 4,
 "nbformat_minor": 4
}
