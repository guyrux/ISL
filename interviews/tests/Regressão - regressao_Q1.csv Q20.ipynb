{
 "cells": [
  {
   "cell_type": "code",
   "execution_count": 10,
   "metadata": {
    "ExecuteTime": {
     "end_time": "2020-12-05T02:43:41.459128Z",
     "start_time": "2020-12-05T02:43:41.443493Z"
    }
   },
   "outputs": [],
   "source": [
    "# Instruções basiconas de sempre.\n",
    "\n",
    "# Lidar com dataframes.\n",
    "import numpy as np\n",
    "import pandas as pd\n",
    "\n",
    "# Lidar com gráficos.\n",
    "import matplotlib.pyplot as plt\n",
    "import seaborn as sns\n",
    "\n",
    "# Lidar com preparação de dados.\n",
    "from data_prep import data_prep as dp # Eu que fiz esse modulinho (\"uuuuuuuuuma bosts!\").\n",
    "from sklearn.impute import SimpleImputer\n",
    "from sklearn.preprocessing import (StandardScaler\n",
    "                                   , MinMaxScaler)\n",
    "\n",
    "from sklearn.linear_model import LinearRegression\n",
    "from sklearn.tree import DecisionTreeRegressor\n",
    "\n",
    "from sklearn.model_selection import (train_test_split\n",
    "                                     , cross_val_score\n",
    "                                     , StratifiedKFold\n",
    "                                     , cross_validate\n",
    "                                     , GridSearchCV)\n",
    "\n",
    "# Lidar com validação de modelos.\n",
    "from sklearn.metrics import (confusion_matrix\n",
    "                             , accuracy_score\n",
    "                             , classification_report)\n",
    "\n",
    "pd.set_option('display.max_columns', None)  \n",
    "pd.set_option('display.max_colwidth', None)\n",
    "pd.set_option('display.max_rows', 500)"
   ]
  },
  {
   "cell_type": "code",
   "execution_count": 3,
   "metadata": {
    "ExecuteTime": {
     "end_time": "2020-12-05T02:39:01.850762Z",
     "start_time": "2020-12-05T02:39:01.779968Z"
    }
   },
   "outputs": [
    {
     "data": {
      "text/html": [
       "<div>\n",
       "<style scoped>\n",
       "    .dataframe tbody tr th:only-of-type {\n",
       "        vertical-align: middle;\n",
       "    }\n",
       "\n",
       "    .dataframe tbody tr th {\n",
       "        vertical-align: top;\n",
       "    }\n",
       "\n",
       "    .dataframe thead th {\n",
       "        text-align: right;\n",
       "    }\n",
       "</style>\n",
       "<table border=\"1\" class=\"dataframe\">\n",
       "  <thead>\n",
       "    <tr style=\"text-align: right;\">\n",
       "      <th></th>\n",
       "      <th>v_1</th>\n",
       "      <th>v_2</th>\n",
       "      <th>v_3</th>\n",
       "      <th>v_4</th>\n",
       "      <th>v_5</th>\n",
       "      <th>v_6</th>\n",
       "      <th>v_7</th>\n",
       "      <th>v_8</th>\n",
       "      <th>v_9</th>\n",
       "      <th>v_10</th>\n",
       "      <th>target</th>\n",
       "    </tr>\n",
       "  </thead>\n",
       "  <tbody>\n",
       "    <tr>\n",
       "      <th>0</th>\n",
       "      <td>-0.97127</td>\n",
       "      <td>-0.56128</td>\n",
       "      <td>1.20414</td>\n",
       "      <td>2.25145</td>\n",
       "      <td>-0.25802</td>\n",
       "      <td>0.06246</td>\n",
       "      <td>-1.78623</td>\n",
       "      <td>-0.27690</td>\n",
       "      <td>-0.22255</td>\n",
       "      <td>0.20963</td>\n",
       "      <td>-0.062202</td>\n",
       "    </tr>\n",
       "    <tr>\n",
       "      <th>1</th>\n",
       "      <td>0.89456</td>\n",
       "      <td>-0.94099</td>\n",
       "      <td>-0.19972</td>\n",
       "      <td>-0.08354</td>\n",
       "      <td>-0.96865</td>\n",
       "      <td>0.62801</td>\n",
       "      <td>0.91543</td>\n",
       "      <td>0.20413</td>\n",
       "      <td>-0.13587</td>\n",
       "      <td>0.96820</td>\n",
       "      <td>0.112596</td>\n",
       "    </tr>\n",
       "    <tr>\n",
       "      <th>2</th>\n",
       "      <td>-0.98777</td>\n",
       "      <td>-0.55565</td>\n",
       "      <td>-0.94141</td>\n",
       "      <td>-1.86277</td>\n",
       "      <td>0.38659</td>\n",
       "      <td>-0.02523</td>\n",
       "      <td>-1.26714</td>\n",
       "      <td>1.07328</td>\n",
       "      <td>-0.28350</td>\n",
       "      <td>0.34430</td>\n",
       "      <td>0.167633</td>\n",
       "    </tr>\n",
       "    <tr>\n",
       "      <th>3</th>\n",
       "      <td>0.03972</td>\n",
       "      <td>-0.99258</td>\n",
       "      <td>0.63481</td>\n",
       "      <td>0.01554</td>\n",
       "      <td>-0.39203</td>\n",
       "      <td>-0.72647</td>\n",
       "      <td>0.46098</td>\n",
       "      <td>0.79395</td>\n",
       "      <td>0.22686</td>\n",
       "      <td>0.25065</td>\n",
       "      <td>-0.844727</td>\n",
       "    </tr>\n",
       "    <tr>\n",
       "      <th>4</th>\n",
       "      <td>-1.66022</td>\n",
       "      <td>-0.06734</td>\n",
       "      <td>-0.72252</td>\n",
       "      <td>-1.32035</td>\n",
       "      <td>0.06715</td>\n",
       "      <td>2.39937</td>\n",
       "      <td>-1.30566</td>\n",
       "      <td>-0.65222</td>\n",
       "      <td>0.36628</td>\n",
       "      <td>0.31644</td>\n",
       "      <td>2.221942</td>\n",
       "    </tr>\n",
       "  </tbody>\n",
       "</table>\n",
       "</div>"
      ],
      "text/plain": [
       "       v_1      v_2      v_3      v_4      v_5      v_6      v_7      v_8  \\\n",
       "0 -0.97127 -0.56128  1.20414  2.25145 -0.25802  0.06246 -1.78623 -0.27690   \n",
       "1  0.89456 -0.94099 -0.19972 -0.08354 -0.96865  0.62801  0.91543  0.20413   \n",
       "2 -0.98777 -0.55565 -0.94141 -1.86277  0.38659 -0.02523 -1.26714  1.07328   \n",
       "3  0.03972 -0.99258  0.63481  0.01554 -0.39203 -0.72647  0.46098  0.79395   \n",
       "4 -1.66022 -0.06734 -0.72252 -1.32035  0.06715  2.39937 -1.30566 -0.65222   \n",
       "\n",
       "       v_9     v_10    target  \n",
       "0 -0.22255  0.20963 -0.062202  \n",
       "1 -0.13587  0.96820  0.112596  \n",
       "2 -0.28350  0.34430  0.167633  \n",
       "3  0.22686  0.25065 -0.844727  \n",
       "4  0.36628  0.31644  2.221942  "
      ]
     },
     "execution_count": 3,
     "metadata": {},
     "output_type": "execute_result"
    }
   ],
   "source": [
    "nomeDaBase = \"./data/regressao_Q1.csv\"\n",
    "df = pd.read_csv(nomeDaBase, encoding=\"utf-8\")\n",
    "\n",
    "df.head()"
   ]
  },
  {
   "cell_type": "code",
   "execution_count": 4,
   "metadata": {
    "ExecuteTime": {
     "end_time": "2020-12-05T02:39:04.893425Z",
     "start_time": "2020-12-05T02:39:04.875854Z"
    }
   },
   "outputs": [],
   "source": [
    "x = df.drop(\"target\", axis=1)\n",
    "y = df[\"target\"]"
   ]
  },
  {
   "cell_type": "code",
   "execution_count": 12,
   "metadata": {
    "ExecuteTime": {
     "end_time": "2020-12-05T02:47:24.656981Z",
     "start_time": "2020-12-05T02:47:24.543119Z"
    }
   },
   "outputs": [
    {
     "name": "stdout",
     "output_type": "stream",
     "text": [
      "\n",
      "LinearRegression\n",
      "fit_time: -0.0004133224\n",
      "score_time: -0.0002011299\n",
      "test_score: 2.662e-07\n",
      "train_score: 2.641e-07\n",
      "------------------------------\n",
      "\n",
      "DecisionTreeRegressor\n",
      "fit_time: -0.0174499989\n",
      "score_time: -0.0003990173\n",
      "test_score: 0.0123915514\n",
      "train_score: -0.0\n",
      "------------------------------\n"
     ]
    }
   ],
   "source": [
    "model_lr = LinearRegression()\n",
    "model_dt = DecisionTreeRegressor()\n",
    "\n",
    "lst_models = [model_lr, model_dt]\n",
    "\n",
    "for item_model in lst_models:\n",
    "    regressor = item_model\n",
    "    cross = cross_validate(regressor, x.values, y, cv=5, scoring=\"neg_mean_squared_error\", return_train_score=True)\n",
    "    print(\"\\n\"+type(item_model).__name__)\n",
    "    for key in cross.keys():\n",
    "        print(f\"\"\"{key}: {round(-cross[key].mean(), 10)}\"\"\")\n",
    "    print(\"-\"*30)"
   ]
  },
  {
   "cell_type": "markdown",
   "metadata": {},
   "source": [
    "## Tunning"
   ]
  },
  {
   "cell_type": "code",
   "execution_count": 11,
   "metadata": {
    "ExecuteTime": {
     "end_time": "2020-12-05T02:43:46.926955Z",
     "start_time": "2020-12-05T02:43:44.043084Z"
    }
   },
   "outputs": [
    {
     "name": "stdout",
     "output_type": "stream",
     "text": [
      "{'criterion': 'friedman_mse', 'max_depth': 15, 'splitter': 'best'}\n"
     ]
    },
    {
     "data": {
      "text/plain": [
       "-1.7748563054175518e-06"
      ]
     },
     "execution_count": 11,
     "metadata": {},
     "output_type": "execute_result"
    }
   ],
   "source": [
    "model_lr = DecisionTreeRegressor()\n",
    "scoring = \"neg_mean_squared_error\"\n",
    "\n",
    "params = {\"criterion\":[\"mse\", \"friedman_mse\", \"mae\"],\n",
    "          \"splitter\":[\"best\", \"random\"],\n",
    "          \"max_depth\":[5,10,15]}\n",
    "\n",
    "grid_search = GridSearchCV(estimator=model_lr, param_grid=params,\n",
    "                           scoring=scoring, cv=3, n_jobs=-1)\n",
    "\n",
    "grid_search = grid_search.fit(x, y)\n",
    "print(grid_search.best_params_)\n",
    "\n",
    "grid_search.score(x, y)"
   ]
  },
  {
   "cell_type": "code",
   "execution_count": null,
   "metadata": {},
   "outputs": [],
   "source": []
  }
 ],
 "metadata": {
  "hide_input": false,
  "kernelspec": {
   "display_name": "Python 3",
   "language": "python",
   "name": "python3"
  },
  "language_info": {
   "codemirror_mode": {
    "name": "ipython",
    "version": 3
   },
   "file_extension": ".py",
   "mimetype": "text/x-python",
   "name": "python",
   "nbconvert_exporter": "python",
   "pygments_lexer": "ipython3",
   "version": "3.8.5"
  },
  "toc": {
   "base_numbering": 1,
   "nav_menu": {},
   "number_sections": true,
   "sideBar": true,
   "skip_h1_title": false,
   "title_cell": "Table of Contents",
   "title_sidebar": "Contents",
   "toc_cell": false,
   "toc_position": {},
   "toc_section_display": true,
   "toc_window_display": false
  }
 },
 "nbformat": 4,
 "nbformat_minor": 4
}
