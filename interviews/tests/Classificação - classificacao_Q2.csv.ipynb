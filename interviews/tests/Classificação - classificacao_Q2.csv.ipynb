{
 "cells": [
  {
   "cell_type": "code",
   "execution_count": 1,
   "metadata": {},
   "outputs": [],
   "source": [
    "# Instruções basiconas de sempre.\n",
    "\n",
    "# Lidar com dataframes.\n",
    "import numpy as np\n",
    "import pandas as pd\n",
    "\n",
    "# Lidar com gráficos.\n",
    "import matplotlib.pyplot as plt\n",
    "import seaborn as sns\n",
    "from plotting import (multiple_histograms_plot,\n",
    "                      bar_plot_with_categorical,\n",
    "                      plot_confusion_matrix,\n",
    "                      plot_confusion_matrix_2,\n",
    "                      plot_roc)\n",
    "\n",
    "# Lidar com preparação de dados.\n",
    "from data_prep import data_prep as dp # Eu que fiz esse modulinho (\"uuuuuuuuuma bosts!\").\n",
    "from sklearn.impute import SimpleImputer\n",
    "from sklearn.preprocessing import (StandardScaler\n",
    "                                   , MinMaxScaler)\n",
    "from sklearn.model_selection import (train_test_split\n",
    "                                     , cross_val_score\n",
    "                                     , StratifiedKFold\n",
    "                                     , cross_validate)\n",
    "\n",
    "from sklearn.linear_model import LogisticRegression\n",
    "\n",
    "# Lidar com validação de modelos.\n",
    "from sklearn.metrics import (confusion_matrix\n",
    "                             , accuracy_score\n",
    "                             , classification_report)\n",
    "\n",
    "pd.set_option('display.max_columns', None)  \n",
    "pd.set_option('display.max_colwidth', None)\n",
    "pd.set_option('display.max_rows', 500)"
   ]
  },
  {
   "cell_type": "code",
   "execution_count": 3,
   "metadata": {},
   "outputs": [
    {
     "data": {
      "text/html": [
       "<div>\n",
       "<style scoped>\n",
       "    .dataframe tbody tr th:only-of-type {\n",
       "        vertical-align: middle;\n",
       "    }\n",
       "\n",
       "    .dataframe tbody tr th {\n",
       "        vertical-align: top;\n",
       "    }\n",
       "\n",
       "    .dataframe thead th {\n",
       "        text-align: right;\n",
       "    }\n",
       "</style>\n",
       "<table border=\"1\" class=\"dataframe\">\n",
       "  <thead>\n",
       "    <tr style=\"text-align: right;\">\n",
       "      <th></th>\n",
       "      <th>v_1</th>\n",
       "      <th>v_2</th>\n",
       "      <th>v_3</th>\n",
       "      <th>v_4</th>\n",
       "      <th>v_5</th>\n",
       "      <th>v_6</th>\n",
       "      <th>v_7</th>\n",
       "      <th>v_8</th>\n",
       "      <th>v_9</th>\n",
       "      <th>v_10</th>\n",
       "      <th>v_11</th>\n",
       "      <th>v_12</th>\n",
       "      <th>v_13</th>\n",
       "      <th>target</th>\n",
       "    </tr>\n",
       "  </thead>\n",
       "  <tbody>\n",
       "    <tr>\n",
       "      <th>0</th>\n",
       "      <td>-1.39917</td>\n",
       "      <td>0.96108</td>\n",
       "      <td>-0.36145</td>\n",
       "      <td>0.26092</td>\n",
       "      <td>2.78953</td>\n",
       "      <td>-1.55046</td>\n",
       "      <td>-0.79886</td>\n",
       "      <td>0.24304</td>\n",
       "      <td>1.51733</td>\n",
       "      <td>-0.03357</td>\n",
       "      <td>-1.51127</td>\n",
       "      <td>-0.97444</td>\n",
       "      <td>-0.01934</td>\n",
       "      <td>0</td>\n",
       "    </tr>\n",
       "    <tr>\n",
       "      <th>1</th>\n",
       "      <td>-2.48564</td>\n",
       "      <td>1.24529</td>\n",
       "      <td>-0.39431</td>\n",
       "      <td>1.06648</td>\n",
       "      <td>1.71957</td>\n",
       "      <td>-0.60296</td>\n",
       "      <td>-2.35698</td>\n",
       "      <td>-2.31878</td>\n",
       "      <td>0.95555</td>\n",
       "      <td>-2.00420</td>\n",
       "      <td>-0.75294</td>\n",
       "      <td>-3.64680</td>\n",
       "      <td>-0.55923</td>\n",
       "      <td>0</td>\n",
       "    </tr>\n",
       "    <tr>\n",
       "      <th>2</th>\n",
       "      <td>-0.57025</td>\n",
       "      <td>0.65495</td>\n",
       "      <td>-0.73706</td>\n",
       "      <td>0.22444</td>\n",
       "      <td>-0.44094</td>\n",
       "      <td>-0.42596</td>\n",
       "      <td>0.44267</td>\n",
       "      <td>-1.74196</td>\n",
       "      <td>-0.06599</td>\n",
       "      <td>-0.36783</td>\n",
       "      <td>0.93065</td>\n",
       "      <td>-0.72392</td>\n",
       "      <td>0.37139</td>\n",
       "      <td>0</td>\n",
       "    </tr>\n",
       "    <tr>\n",
       "      <th>3</th>\n",
       "      <td>2.10165</td>\n",
       "      <td>1.46236</td>\n",
       "      <td>-0.25678</td>\n",
       "      <td>2.58908</td>\n",
       "      <td>-3.40158</td>\n",
       "      <td>2.43561</td>\n",
       "      <td>0.74701</td>\n",
       "      <td>-0.65229</td>\n",
       "      <td>-0.45497</td>\n",
       "      <td>-1.57951</td>\n",
       "      <td>2.07367</td>\n",
       "      <td>1.86435</td>\n",
       "      <td>-0.37664</td>\n",
       "      <td>1</td>\n",
       "    </tr>\n",
       "    <tr>\n",
       "      <th>4</th>\n",
       "      <td>3.01588</td>\n",
       "      <td>-2.50913</td>\n",
       "      <td>-2.01442</td>\n",
       "      <td>2.10296</td>\n",
       "      <td>-3.05465</td>\n",
       "      <td>5.38227</td>\n",
       "      <td>0.46846</td>\n",
       "      <td>1.57586</td>\n",
       "      <td>3.02176</td>\n",
       "      <td>-0.86271</td>\n",
       "      <td>-1.14418</td>\n",
       "      <td>-0.89712</td>\n",
       "      <td>0.61823</td>\n",
       "      <td>1</td>\n",
       "    </tr>\n",
       "  </tbody>\n",
       "</table>\n",
       "</div>"
      ],
      "text/plain": [
       "       v_1      v_2      v_3      v_4      v_5      v_6      v_7      v_8  \\\n",
       "0 -1.39917  0.96108 -0.36145  0.26092  2.78953 -1.55046 -0.79886  0.24304   \n",
       "1 -2.48564  1.24529 -0.39431  1.06648  1.71957 -0.60296 -2.35698 -2.31878   \n",
       "2 -0.57025  0.65495 -0.73706  0.22444 -0.44094 -0.42596  0.44267 -1.74196   \n",
       "3  2.10165  1.46236 -0.25678  2.58908 -3.40158  2.43561  0.74701 -0.65229   \n",
       "4  3.01588 -2.50913 -2.01442  2.10296 -3.05465  5.38227  0.46846  1.57586   \n",
       "\n",
       "       v_9     v_10     v_11     v_12     v_13  target  \n",
       "0  1.51733 -0.03357 -1.51127 -0.97444 -0.01934       0  \n",
       "1  0.95555 -2.00420 -0.75294 -3.64680 -0.55923       0  \n",
       "2 -0.06599 -0.36783  0.93065 -0.72392  0.37139       0  \n",
       "3 -0.45497 -1.57951  2.07367  1.86435 -0.37664       1  \n",
       "4  3.02176 -0.86271 -1.14418 -0.89712  0.61823       1  "
      ]
     },
     "execution_count": 3,
     "metadata": {},
     "output_type": "execute_result"
    }
   ],
   "source": [
    "nomeDaBase = \"./data/classificacao_Q2.csv\"\n",
    "df = pd.read_csv(nomeDaBase, encoding=\"utf-8\")\n",
    "\n",
    "df.head()"
   ]
  },
  {
   "cell_type": "code",
   "execution_count": 4,
   "metadata": {},
   "outputs": [],
   "source": [
    "x = df.drop(\"target\", axis=1)\n",
    "y = df[\"target\"]"
   ]
  },
  {
   "cell_type": "code",
   "execution_count": 22,
   "metadata": {},
   "outputs": [
    {
     "name": "stdout",
     "output_type": "stream",
     "text": [
      "test_score: -0.877\n",
      "train_score: -0.879\n",
      "\n",
      "\n",
      "Split 0: [[ 0.20473649 -0.08477158  0.29116452 -0.03707141 -0.32255274  0.1678145\n",
      "  -0.05667282  0.14481182 -0.39023926 -0.01556733  0.1624601   0.28244397\n",
      "  -0.1197967 ]]\n",
      "Split 1: [[ 0.20862305 -0.07668656  0.27845242 -0.02582416 -0.31807451  0.17932329\n",
      "  -0.04972003  0.14154381 -0.36575109 -0.02246966  0.16058818  0.28295061\n",
      "  -0.11807731]]\n",
      "Split 2: [[ 0.20827468 -0.07378226  0.26278595 -0.0138159  -0.29713044  0.18542996\n",
      "  -0.05029765  0.15214209 -0.32946884 -0.02477976  0.13961945  0.27451322\n",
      "  -0.13649545]]\n",
      "Split 3: [[ 0.20741783 -0.07648704  0.28237169 -0.02496873 -0.3156028   0.15936352\n",
      "  -0.05336798  0.15545947 -0.37990997 -0.01137699  0.15380923  0.28740934\n",
      "  -0.14039781]]\n",
      "Split 4: [[ 0.20631229 -0.0782583   0.27796852 -0.00598657 -0.31319368  0.1719018\n",
      "  -0.0730488   0.16236617 -0.36650886 -0.02419747  0.13615303  0.26658619\n",
      "  -0.09264947]]\n"
     ]
    }
   ],
   "source": [
    "classificador = LogisticRegression(C=0.1, penalty=\"l2\");\n",
    "\n",
    "cross = cross_validate(classificador, x.values, y, cv=5, scoring=\"roc_auc\", return_train_score=True, return_estimator=True, n_jobs=-1)\n",
    "\n",
    "for key in ['test_score', 'train_score']:\n",
    "    print(f\"\"\"{key}: {round(-cross[key].mean(), 3)}\"\"\")\n",
    "\n",
    "print(\"\\n\")\n",
    "\n",
    "for i, model in enumerate(cross['estimator']):\n",
    "    print(f\"\"\"Split {i}: {model.coef_}\"\"\")"
   ]
  },
  {
   "cell_type": "markdown",
   "metadata": {},
   "source": [
    "# Não apagar a célula abaixo. =)"
   ]
  },
  {
   "cell_type": "code",
   "execution_count": 11,
   "metadata": {},
   "outputs": [
    {
     "name": "stdout",
     "output_type": "stream",
     "text": [
      "dict_keys(['fit_time', 'score_time', 'test_score', 'train_score'])\n",
      "0.8790685824761368 0.876732053251408\n"
     ]
    },
    {
     "name": "stderr",
     "output_type": "stream",
     "text": [
      "C:\\ProgramData\\Anaconda3\\lib\\site-packages\\sklearn\\utils\\deprecation.py:125: FutureWarning: You are accessing a training score ('train_score'), which will not be available by default any more in 0.21. If you need training scores, please set return_train_score=True\n",
      "  warnings.warn(*warn_args, **warn_kwargs)\n"
     ]
    }
   ],
   "source": [
    "print(cross.keys())\n",
    "\n",
    "print(cross[\"train_score\"].mean(), cross[\"test_score\"].mean())"
   ]
  },
  {
   "cell_type": "code",
   "execution_count": 13,
   "metadata": {},
   "outputs": [],
   "source": [
    "# Salvei a saída da célula acima. =)\n",
    "\n",
    "# dict_keys(['fit_time', 'score_time', 'test_score', 'train_score'])\n",
    "# 0.8790685824761368 0.876732053251408"
   ]
  }
 ],
 "metadata": {
  "kernelspec": {
   "display_name": "Python 3",
   "language": "python",
   "name": "python3"
  },
  "language_info": {
   "codemirror_mode": {
    "name": "ipython",
    "version": 3
   },
   "file_extension": ".py",
   "mimetype": "text/x-python",
   "name": "python",
   "nbconvert_exporter": "python",
   "pygments_lexer": "ipython3",
   "version": "3.8.5"
  },
  "toc": {
   "base_numbering": 1,
   "nav_menu": {},
   "number_sections": true,
   "sideBar": true,
   "skip_h1_title": false,
   "title_cell": "Table of Contents",
   "title_sidebar": "Contents",
   "toc_cell": false,
   "toc_position": {},
   "toc_section_display": true,
   "toc_window_display": false
  }
 },
 "nbformat": 4,
 "nbformat_minor": 4
}
