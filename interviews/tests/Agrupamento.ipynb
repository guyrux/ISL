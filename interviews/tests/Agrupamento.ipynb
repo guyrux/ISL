{
 "cells": [
  {
   "cell_type": "code",
   "execution_count": 1,
   "metadata": {
    "ExecuteTime": {
     "end_time": "2020-12-16T15:46:26.978069Z",
     "start_time": "2020-12-16T15:46:25.517213Z"
    }
   },
   "outputs": [],
   "source": [
    "# Instruções basiconas de sempre.\n",
    "\n",
    "# Lidar com dataframes.\n",
    "import numpy as np\n",
    "import pandas as pd\n",
    "\n",
    "# Lidar com gráficos.\n",
    "import matplotlib.pyplot as plt\n",
    "import seaborn as sns\n",
    "\n",
    "# Lidar com preparação de dados.\n",
    "from sklearn.impute import SimpleImputer\n",
    "\n",
    "from sklearn.preprocessing import (StandardScaler\n",
    "                                   , MinMaxScaler)\n",
    "\n",
    "from sklearn.model_selection import (train_test_split\n",
    "                                     , cross_val_score\n",
    "                                     , StratifiedKFold)\n",
    "\n",
    "from scipy.cluster.hierarchy import dendrogram, linkage\n",
    "from sklearn.cluster import AgglomerativeClustering\n",
    "\n",
    "# Lidar com validação de modelos.\n",
    "from sklearn.metrics import (confusion_matrix\n",
    "                             , accuracy_score\n",
    "                             , classification_report)\n",
    "\n",
    "# Parâmetros estéticos dos gráficos:\n",
    "set_palette = \"Paired\"\n",
    "axes_style = \"ticks\"\n",
    "\n",
    "linha = 50*\"-\"\n",
    "\n",
    "pd.set_option('display.max_columns', None)  \n",
    "pd.set_option('display.max_colwidth', None)\n",
    "pd.set_option('display.max_rows', 500)"
   ]
  },
  {
   "cell_type": "code",
   "execution_count": 2,
   "metadata": {
    "ExecuteTime": {
     "end_time": "2020-12-16T15:46:26.997593Z",
     "start_time": "2020-12-16T15:46:26.978069Z"
    }
   },
   "outputs": [
    {
     "data": {
      "text/html": [
       "<div>\n",
       "<style scoped>\n",
       "    .dataframe tbody tr th:only-of-type {\n",
       "        vertical-align: middle;\n",
       "    }\n",
       "\n",
       "    .dataframe tbody tr th {\n",
       "        vertical-align: top;\n",
       "    }\n",
       "\n",
       "    .dataframe thead th {\n",
       "        text-align: right;\n",
       "    }\n",
       "</style>\n",
       "<table border=\"1\" class=\"dataframe\">\n",
       "  <thead>\n",
       "    <tr style=\"text-align: right;\">\n",
       "      <th></th>\n",
       "      <th>x0</th>\n",
       "      <th>x1</th>\n",
       "      <th>x2</th>\n",
       "      <th>x3</th>\n",
       "      <th>x4</th>\n",
       "    </tr>\n",
       "  </thead>\n",
       "  <tbody>\n",
       "    <tr>\n",
       "      <th>0</th>\n",
       "      <td>5.447043</td>\n",
       "      <td>6.319084</td>\n",
       "      <td>2.664620</td>\n",
       "      <td>6.568743</td>\n",
       "      <td>4.802295</td>\n",
       "    </tr>\n",
       "    <tr>\n",
       "      <th>1</th>\n",
       "      <td>4.875562</td>\n",
       "      <td>4.796801</td>\n",
       "      <td>2.154231</td>\n",
       "      <td>6.832907</td>\n",
       "      <td>5.321401</td>\n",
       "    </tr>\n",
       "    <tr>\n",
       "      <th>2</th>\n",
       "      <td>5.582920</td>\n",
       "      <td>5.060775</td>\n",
       "      <td>1.895917</td>\n",
       "      <td>6.004299</td>\n",
       "      <td>6.330105</td>\n",
       "    </tr>\n",
       "    <tr>\n",
       "      <th>3</th>\n",
       "      <td>6.370727</td>\n",
       "      <td>3.717727</td>\n",
       "      <td>1.729007</td>\n",
       "      <td>5.923414</td>\n",
       "      <td>4.533557</td>\n",
       "    </tr>\n",
       "    <tr>\n",
       "      <th>4</th>\n",
       "      <td>4.789262</td>\n",
       "      <td>4.510056</td>\n",
       "      <td>0.669330</td>\n",
       "      <td>7.731273</td>\n",
       "      <td>4.272356</td>\n",
       "    </tr>\n",
       "  </tbody>\n",
       "</table>\n",
       "</div>"
      ],
      "text/plain": [
       "         x0        x1        x2        x3        x4\n",
       "0  5.447043  6.319084  2.664620  6.568743  4.802295\n",
       "1  4.875562  4.796801  2.154231  6.832907  5.321401\n",
       "2  5.582920  5.060775  1.895917  6.004299  6.330105\n",
       "3  6.370727  3.717727  1.729007  5.923414  4.533557\n",
       "4  4.789262  4.510056  0.669330  7.731273  4.272356"
      ]
     },
     "execution_count": 2,
     "metadata": {},
     "output_type": "execute_result"
    }
   ],
   "source": [
    "nomeDaBase = \"./data/agrupamento.csv\"\n",
    "df = pd.read_csv(nomeDaBase, encoding=\"utf-8\")\n",
    "\n",
    "df.head()"
   ]
  },
  {
   "cell_type": "code",
   "execution_count": 3,
   "metadata": {
    "ExecuteTime": {
     "end_time": "2020-12-16T15:46:29.000165Z",
     "start_time": "2020-12-16T15:46:28.988207Z"
    }
   },
   "outputs": [
    {
     "data": {
      "text/html": [
       "<div>\n",
       "<style scoped>\n",
       "    .dataframe tbody tr th:only-of-type {\n",
       "        vertical-align: middle;\n",
       "    }\n",
       "\n",
       "    .dataframe tbody tr th {\n",
       "        vertical-align: top;\n",
       "    }\n",
       "\n",
       "    .dataframe thead th {\n",
       "        text-align: right;\n",
       "    }\n",
       "</style>\n",
       "<table border=\"1\" class=\"dataframe\">\n",
       "  <thead>\n",
       "    <tr style=\"text-align: right;\">\n",
       "      <th></th>\n",
       "      <th>x0</th>\n",
       "      <th>x1</th>\n",
       "      <th>x2</th>\n",
       "      <th>x3</th>\n",
       "      <th>x4</th>\n",
       "    </tr>\n",
       "  </thead>\n",
       "  <tbody>\n",
       "    <tr>\n",
       "      <th>0</th>\n",
       "      <td>1.466029</td>\n",
       "      <td>1.438710</td>\n",
       "      <td>0.256044</td>\n",
       "      <td>0.618775</td>\n",
       "      <td>1.086416</td>\n",
       "    </tr>\n",
       "    <tr>\n",
       "      <th>1</th>\n",
       "      <td>1.147468</td>\n",
       "      <td>0.825259</td>\n",
       "      <td>0.048281</td>\n",
       "      <td>0.692792</td>\n",
       "      <td>1.345877</td>\n",
       "    </tr>\n",
       "    <tr>\n",
       "      <th>2</th>\n",
       "      <td>1.541771</td>\n",
       "      <td>0.931636</td>\n",
       "      <td>-0.056871</td>\n",
       "      <td>0.460623</td>\n",
       "      <td>1.850050</td>\n",
       "    </tr>\n",
       "    <tr>\n",
       "      <th>3</th>\n",
       "      <td>1.980919</td>\n",
       "      <td>0.390412</td>\n",
       "      <td>-0.124815</td>\n",
       "      <td>0.437960</td>\n",
       "      <td>0.952095</td>\n",
       "    </tr>\n",
       "    <tr>\n",
       "      <th>4</th>\n",
       "      <td>1.099362</td>\n",
       "      <td>0.709706</td>\n",
       "      <td>-0.556177</td>\n",
       "      <td>0.944505</td>\n",
       "      <td>0.821541</td>\n",
       "    </tr>\n",
       "  </tbody>\n",
       "</table>\n",
       "</div>"
      ],
      "text/plain": [
       "         x0        x1        x2        x3        x4\n",
       "0  1.466029  1.438710  0.256044  0.618775  1.086416\n",
       "1  1.147468  0.825259  0.048281  0.692792  1.345877\n",
       "2  1.541771  0.931636 -0.056871  0.460623  1.850050\n",
       "3  1.980919  0.390412 -0.124815  0.437960  0.952095\n",
       "4  1.099362  0.709706 -0.556177  0.944505  0.821541"
      ]
     },
     "execution_count": 3,
     "metadata": {},
     "output_type": "execute_result"
    }
   ],
   "source": [
    "scaler = StandardScaler()\n",
    "\n",
    "df_tratado = scaler.fit_transform(df)\n",
    "\n",
    "df_tratado = pd.DataFrame(df_tratado, columns=df.columns)\n",
    "df_tratado.head()"
   ]
  },
  {
   "cell_type": "code",
   "execution_count": 4,
   "metadata": {
    "ExecuteTime": {
     "end_time": "2020-12-16T15:46:33.101171Z",
     "start_time": "2020-12-16T15:46:33.089168Z"
    }
   },
   "outputs": [
    {
     "data": {
      "text/plain": [
       "AgglomerativeClustering(affinity='l1', compute_full_tree=True, linkage='single',\n",
       "                        n_clusters=4)"
      ]
     },
     "execution_count": 4,
     "metadata": {},
     "output_type": "execute_result"
    }
   ],
   "source": [
    "model = AgglomerativeClustering(linkage=\"single\", compute_full_tree=True, n_clusters=4, affinity=\"l1\")\n",
    "\n",
    "model.fit(df_tratado)"
   ]
  },
  {
   "cell_type": "code",
   "execution_count": 5,
   "metadata": {
    "ExecuteTime": {
     "end_time": "2020-12-16T15:46:34.923537Z",
     "start_time": "2020-12-16T15:46:34.908010Z"
    }
   },
   "outputs": [
    {
     "name": "stdout",
     "output_type": "stream",
     "text": [
      "l1\n",
      "None\n"
     ]
    }
   ],
   "source": [
    "print(model.affinity)\n",
    "print(model.connectivity)"
   ]
  },
  {
   "cell_type": "code",
   "execution_count": 6,
   "metadata": {
    "ExecuteTime": {
     "end_time": "2020-12-16T15:46:36.680702Z",
     "start_time": "2020-12-16T15:46:36.668138Z"
    }
   },
   "outputs": [],
   "source": [
    "# Função pega em https://scikit-learn.org/stable/auto_examples/cluster/plot_agglomerative_dendrogram.html\n",
    "\n",
    "def plot_dendrogram(model, **kwargs):\n",
    "    # Create linkage matrix and then plot the dendrogram\n",
    "\n",
    "    # create the counts of samples under each node\n",
    "    counts = np.zeros(model.children_.shape[0])\n",
    "    n_samples = len(model.labels_)\n",
    "    for i, merge in enumerate(model.children_):\n",
    "        current_count = 0\n",
    "        for child_idx in merge:\n",
    "            if child_idx < n_samples:\n",
    "                current_count += 1  # leaf node\n",
    "            else:\n",
    "                current_count += counts[child_idx - n_samples]\n",
    "        counts[i] = current_count\n",
    "\n",
    "    linkage_matrix = np.column_stack([model.children_, model.distances_, counts]).astype(float)\n",
    "\n",
    "    # Plot the corresponding dendrogram\n",
    "    dendrogram(linkage_matrix, **kwargs)"
   ]
  },
  {
   "cell_type": "code",
   "execution_count": 7,
   "metadata": {
    "ExecuteTime": {
     "end_time": "2020-11-27T11:37:47.198029Z",
     "start_time": "2020-11-27T11:37:44.051345Z"
    }
   },
   "outputs": [
    {
     "data": {
      "image/png": "[encoded data removed]",
      "text/plain": [
       "<Figure size 1296x432 with 1 Axes>"
      ]
     },
     "metadata": {
      "needs_background": "light"
     },
     "output_type": "display_data"
    }
   ],
   "source": [
    "model = AgglomerativeClustering(linkage=\"single\", compute_full_tree=True, distance_threshold=1, n_clusters=None)\n",
    "model.fit(df_tratado)\n",
    "# model = AgglomerativeClustering(n_clusters=None, distance_threshold=0, linkage=linkage_type)\n",
    "\n",
    "# model = model.fit(df_scaled_pca.drop([\"labs\"], axis=1), df_scaled_pca[\"labs\"].values)\n",
    "\n",
    "# plot the top three levels of the dendrogram\n",
    "plt.figure(figsize=(18, 6))\n",
    "plt.title('Hierarchical Clustering Dendrogram - single linkage')\n",
    "plot_dendrogram(model, truncate_mode=None, labels=df_tratado.index.tolist())\n",
    "plt.xticks(rotation=90)\n",
    "plt.xticks(fontsize=14)\n",
    "plt.yticks(fontsize=14)\n",
    "plt.show()"
   ]
  },
  {
   "cell_type": "code",
   "execution_count": 8,
   "metadata": {
    "ExecuteTime": {
     "end_time": "2020-11-27T11:36:28.979545Z",
     "start_time": "2020-11-27T11:36:19.582928Z"
    }
   },
   "outputs": [
    {
     "data": {
      "image/png": "[encoded data removed]",
      "text/plain": [
       "<Figure size 1296x432 with 1 Axes>"
      ]
     },
     "metadata": {
      "needs_background": "light"
     },
     "output_type": "display_data"
    },
    {
     "data": {
      "image/png": "[encoded data removed]",
      "text/plain": [
       "<Figure size 1296x432 with 1 Axes>"
      ]
     },
     "metadata": {
      "needs_background": "light"
     },
     "output_type": "display_data"
    },
    {
     "data": {
      "image/png": "[encoded data removed]",
      "text/plain": [
       "<Figure size 1296x432 with 1 Axes>"
      ]
     },
     "metadata": {
      "needs_background": "light"
     },
     "output_type": "display_data"
    }
   ],
   "source": [
    "list_linkage = [\"complete\", \"average\", \"single\"]\n",
    "\n",
    "for linkage_type in list_linkage:\n",
    "\n",
    "    model = AgglomerativeClustering(linkage=linkage_type, compute_full_tree=True, distance_threshold=1, n_clusters=None, affinity=\"euclidean\")\n",
    "    model.fit(df_tratado)\n",
    "\n",
    "    # plot the top three levels of the dendrogram\n",
    "    plt.figure(figsize=(18, 6))\n",
    "    plt.title('Hierarchical Clustering Dendrogram - '+linkage_type+' linkage')\n",
    "    plot_dendrogram(model, truncate_mode=None, labels=df_tratado.index.tolist())\n",
    "    plt.xticks(rotation=90)\n",
    "    plt.xticks(fontsize=14)\n",
    "    plt.yticks(fontsize=14)\n",
    "    plt.show()"
   ]
  },
  {
   "cell_type": "code",
   "execution_count": 9,
   "metadata": {},
   "outputs": [
    {
     "data": {
      "text/html": [
       "<div>\n",
       "<style scoped>\n",
       "    .dataframe tbody tr th:only-of-type {\n",
       "        vertical-align: middle;\n",
       "    }\n",
       "\n",
       "    .dataframe tbody tr th {\n",
       "        vertical-align: top;\n",
       "    }\n",
       "\n",
       "    .dataframe thead th {\n",
       "        text-align: right;\n",
       "    }\n",
       "</style>\n",
       "<table border=\"1\" class=\"dataframe\">\n",
       "  <thead>\n",
       "    <tr style=\"text-align: right;\">\n",
       "      <th></th>\n",
       "      <th>x0</th>\n",
       "      <th>x1</th>\n",
       "      <th>x2</th>\n",
       "      <th>x3</th>\n",
       "      <th>x4</th>\n",
       "    </tr>\n",
       "  </thead>\n",
       "  <tbody>\n",
       "    <tr>\n",
       "      <th>0</th>\n",
       "      <td>1.466029</td>\n",
       "      <td>1.438710</td>\n",
       "      <td>0.256044</td>\n",
       "      <td>0.618775</td>\n",
       "      <td>1.086416</td>\n",
       "    </tr>\n",
       "    <tr>\n",
       "      <th>1</th>\n",
       "      <td>1.147468</td>\n",
       "      <td>0.825259</td>\n",
       "      <td>0.048281</td>\n",
       "      <td>0.692792</td>\n",
       "      <td>1.345877</td>\n",
       "    </tr>\n",
       "    <tr>\n",
       "      <th>2</th>\n",
       "      <td>1.541771</td>\n",
       "      <td>0.931636</td>\n",
       "      <td>-0.056871</td>\n",
       "      <td>0.460623</td>\n",
       "      <td>1.850050</td>\n",
       "    </tr>\n",
       "    <tr>\n",
       "      <th>3</th>\n",
       "      <td>1.980919</td>\n",
       "      <td>0.390412</td>\n",
       "      <td>-0.124815</td>\n",
       "      <td>0.437960</td>\n",
       "      <td>0.952095</td>\n",
       "    </tr>\n",
       "    <tr>\n",
       "      <th>4</th>\n",
       "      <td>1.099362</td>\n",
       "      <td>0.709706</td>\n",
       "      <td>-0.556177</td>\n",
       "      <td>0.944505</td>\n",
       "      <td>0.821541</td>\n",
       "    </tr>\n",
       "  </tbody>\n",
       "</table>\n",
       "</div>"
      ],
      "text/plain": [
       "         x0        x1        x2        x3        x4\n",
       "0  1.466029  1.438710  0.256044  0.618775  1.086416\n",
       "1  1.147468  0.825259  0.048281  0.692792  1.345877\n",
       "2  1.541771  0.931636 -0.056871  0.460623  1.850050\n",
       "3  1.980919  0.390412 -0.124815  0.437960  0.952095\n",
       "4  1.099362  0.709706 -0.556177  0.944505  0.821541"
      ]
     },
     "execution_count": 9,
     "metadata": {},
     "output_type": "execute_result"
    }
   ],
   "source": [
    "df_tratado.head()"
   ]
  },
  {
   "cell_type": "code",
   "execution_count": 10,
   "metadata": {},
   "outputs": [
    {
     "name": "stdout",
     "output_type": "stream",
     "text": [
      "Distâncias:\n",
      "[0.15115801 0.16335523 0.17282843 0.18982599 0.20583789 0.22027474\n",
      " 0.22715496 0.24838736 0.25881259 0.27595979 0.28208437 0.28374403\n",
      " 0.2984855  0.31876758 0.32089431 0.32445422 0.32701608 0.3279112\n",
      " 0.34169033 0.34532666 0.38123726 0.38348581 0.39831837 0.4142234\n",
      " 0.41827222 0.41961171 0.42035577 0.42241298 0.42356222 0.45201509\n",
      " 0.45479048 0.45730822 0.45779441 0.47048491 0.47418773 0.48674269\n",
      " 0.48926053 0.4945041  0.50286266 0.51864964 0.52492946 0.52940814\n",
      " 0.55006543 0.56817781 0.57140231 0.57193866 0.57770345 0.5876855\n",
      " 0.59037092 0.59197331 0.60220988 0.62370142 0.64018699 0.6516869\n",
      " 0.65301916 0.65385268 0.65554226 0.66950814 0.68022734 0.69370903\n",
      " 0.71439602 0.71692893 0.73896015 0.76198848 0.76443229 0.76540167\n",
      " 0.79291605 0.81597455 0.82198419 0.84408611 0.85730065 0.87905929\n",
      " 0.90708854 0.91967413 0.9365539  0.94666994 1.0038994  1.09758308\n",
      " 1.1701731  1.29538172 1.3287906  3.35011289 3.39511737 3.90930644]\n",
      "\n",
      "Clusters:\n",
      "85\n",
      "\n",
      "Labels:\n",
      "[67 64 79 49 61 42 75 69 74 43 70 71 53 55 68 63 59 45 54 51 72 78 62 33\n",
      " 52 30 73 83 80 57 31 84 47 56 60 77 38 50 81 46 26 25 48 24 58 44 22 29\n",
      " 65 82 76 40 66 32 23 11 15 14 37 39 28 41 21 27 13 36 35 34 20  6 17 19\n",
      " 12  9 18 10 16  7  8  4  5  3  1  2  0]\n",
      "\n",
      "Distâncias:\n",
      "[0.15115801 0.16335523 0.17282843 0.18982599 0.20583789 0.22027474\n",
      " 0.22715496 0.24838736 0.25881259 0.27595979 0.28208437 0.28374403\n",
      " 0.2984855  0.31876758 0.32089431 0.32445422 0.32701608 0.3279112\n",
      " 0.34169033 0.34532666 0.38123726 0.38348581 0.39831837 0.4142234\n",
      " 0.41827222 0.41961171 0.42035577 0.42241298 0.42356222 0.45201509\n",
      " 0.45479048 0.45730822 0.45779441 0.47048491 0.47418773 0.48674269\n",
      " 0.48926053 0.4945041  0.50286266 0.51864964 0.52492946 0.52940814\n",
      " 0.55006543 0.56817781 0.57140231 0.57193866 0.57770345 0.5876855\n",
      " 0.59037092 0.59197331 0.60220988 0.62370142 0.64018699 0.6516869\n",
      " 0.65301916 0.65385268 0.65554226 0.66950814 0.68022734 0.69370903\n",
      " 0.71439602 0.71692893 0.73896015 0.76198848 0.76443229 0.76540167\n",
      " 0.79291605 0.81597455 0.82198419 0.84408611 0.85730065 0.87905929\n",
      " 0.90708854 0.91967413 0.9365539  0.94666994 1.0038994  1.09758308\n",
      " 1.1701731  1.29538172 1.3287906  3.35011289 3.39511737 3.90930644]\n",
      "\n",
      "Clusters:\n",
      "9\n",
      "\n",
      "Labels:\n",
      "[6 1 2 2 1 1 2 6 1 2 1 8 1 1 4 1 1 2 1 4 3 3 3 3 3 3 3 3 3 3 3 3 3 3 3 3 3\n",
      " 3 3 3 3 3 3 3 3 0 0 0 0 0 0 0 0 0 5 0 0 0 0 0 0 0 0 0 0 0 0 0 0 0 7 7 7 7\n",
      " 7 7 7 7 7 7 7 7 7 7 7]\n",
      "\n"
     ]
    }
   ],
   "source": [
    "threshold = 0\n",
    "model = AgglomerativeClustering(linkage=\"average\", compute_full_tree=True, distance_threshold=threshold, n_clusters=None, affinity=\"euclidean\")\n",
    "y_pred = model.fit_predict(df_tratado)\n",
    "\n",
    "print(f\"\"\"Distâncias:\n",
    "{model.distances_}\n",
    "\"\"\")\n",
    "\n",
    "print(f\"\"\"Clusters:\n",
    "{model.n_clusters_}\n",
    "\"\"\")\n",
    "\n",
    "print(f\"\"\"Labels:\n",
    "{model.labels_}\n",
    "\"\"\")\n",
    "\n",
    "threshold = 1\n",
    "model = AgglomerativeClustering(linkage=\"average\", compute_full_tree=True, distance_threshold=threshold, n_clusters=None, affinity=\"euclidean\")\n",
    "y_pred = model.fit_predict(df_tratado)\n",
    "\n",
    "print(f\"\"\"Distâncias:\n",
    "{model.distances_}\n",
    "\"\"\")\n",
    "\n",
    "print(f\"\"\"Clusters:\n",
    "{model.n_clusters_}\n",
    "\"\"\")\n",
    "\n",
    "print(f\"\"\"Labels:\n",
    "{model.labels_}\n",
    "\"\"\")"
   ]
  },
  {
   "cell_type": "code",
   "execution_count": 15,
   "metadata": {},
   "outputs": [
    {
     "data": {
      "text/html": [
       "<div>\n",
       "<style scoped>\n",
       "    .dataframe tbody tr th:only-of-type {\n",
       "        vertical-align: middle;\n",
       "    }\n",
       "\n",
       "    .dataframe tbody tr th {\n",
       "        vertical-align: top;\n",
       "    }\n",
       "\n",
       "    .dataframe thead th {\n",
       "        text-align: right;\n",
       "    }\n",
       "</style>\n",
       "<table border=\"1\" class=\"dataframe\">\n",
       "  <thead>\n",
       "    <tr style=\"text-align: right;\">\n",
       "      <th></th>\n",
       "      <th>x0</th>\n",
       "      <th>x1</th>\n",
       "      <th>x2</th>\n",
       "      <th>x3</th>\n",
       "      <th>x4</th>\n",
       "    </tr>\n",
       "  </thead>\n",
       "  <tbody>\n",
       "    <tr>\n",
       "      <th>0</th>\n",
       "      <td>1.466029</td>\n",
       "      <td>1.438710</td>\n",
       "      <td>0.256044</td>\n",
       "      <td>0.618775</td>\n",
       "      <td>1.086416</td>\n",
       "    </tr>\n",
       "    <tr>\n",
       "      <th>1</th>\n",
       "      <td>1.147468</td>\n",
       "      <td>0.825259</td>\n",
       "      <td>0.048281</td>\n",
       "      <td>0.692792</td>\n",
       "      <td>1.345877</td>\n",
       "    </tr>\n",
       "    <tr>\n",
       "      <th>2</th>\n",
       "      <td>1.541771</td>\n",
       "      <td>0.931636</td>\n",
       "      <td>-0.056871</td>\n",
       "      <td>0.460623</td>\n",
       "      <td>1.850050</td>\n",
       "    </tr>\n",
       "    <tr>\n",
       "      <th>3</th>\n",
       "      <td>1.980919</td>\n",
       "      <td>0.390412</td>\n",
       "      <td>-0.124815</td>\n",
       "      <td>0.437960</td>\n",
       "      <td>0.952095</td>\n",
       "    </tr>\n",
       "    <tr>\n",
       "      <th>4</th>\n",
       "      <td>1.099362</td>\n",
       "      <td>0.709706</td>\n",
       "      <td>-0.556177</td>\n",
       "      <td>0.944505</td>\n",
       "      <td>0.821541</td>\n",
       "    </tr>\n",
       "  </tbody>\n",
       "</table>\n",
       "</div>"
      ],
      "text/plain": [
       "         x0        x1        x2        x3        x4\n",
       "0  1.466029  1.438710  0.256044  0.618775  1.086416\n",
       "1  1.147468  0.825259  0.048281  0.692792  1.345877\n",
       "2  1.541771  0.931636 -0.056871  0.460623  1.850050\n",
       "3  1.980919  0.390412 -0.124815  0.437960  0.952095\n",
       "4  1.099362  0.709706 -0.556177  0.944505  0.821541"
      ]
     },
     "execution_count": 15,
     "metadata": {},
     "output_type": "execute_result"
    }
   ],
   "source": [
    "df_tratado.head()"
   ]
  },
  {
   "cell_type": "code",
   "execution_count": 24,
   "metadata": {},
   "outputs": [],
   "source": [
    "model = AgglomerativeClustering(linkage=\"average\", compute_full_tree=True, distance_threshold=None, n_clusters=4, affinity=\"euclidean\")\n",
    "y_pred = model.fit_predict(df_tratado)\n",
    "df_tratado[\"y_pred\"] = y_pred"
   ]
  },
  {
   "cell_type": "code",
   "execution_count": 25,
   "metadata": {},
   "outputs": [
    {
     "data": {
      "image/png": "[encoded data removed]",
      "text/plain": [
       "<Figure size 432x288 with 1 Axes>"
      ]
     },
     "metadata": {
      "needs_background": "light"
     },
     "output_type": "display_data"
    }
   ],
   "source": [
    "sns.set_palette(set_palette)\n",
    "sns.axes_style(axes_style)\n",
    "\n",
    "plt.subplots_adjust(wspace = .45)\n",
    "ax = sns.scatterplot(x=\"x0\", y=\"x1\", hue=\"y_pred\", data=df_tratado)"
   ]
  },
  {
   "cell_type": "code",
   "execution_count": null,
   "metadata": {},
   "outputs": [],
   "source": []
  }
 ],
 "metadata": {
  "hide_input": false,
  "kernelspec": {
   "display_name": "Python 3",
   "language": "python",
   "name": "python3"
  },
  "language_info": {
   "codemirror_mode": {
    "name": "ipython",
    "version": 3
   },
   "file_extension": ".py",
   "mimetype": "text/x-python",
   "name": "python",
   "nbconvert_exporter": "python",
   "pygments_lexer": "ipython3",
   "version": "3.8.5"
  },
  "toc": {
   "base_numbering": 1,
   "nav_menu": {},
   "number_sections": true,
   "sideBar": true,
   "skip_h1_title": false,
   "title_cell": "Table of Contents",
   "title_sidebar": "Contents",
   "toc_cell": false,
   "toc_position": {},
   "toc_section_display": true,
   "toc_window_display": false
  }
 },
 "nbformat": 4,
 "nbformat_minor": 4
}
