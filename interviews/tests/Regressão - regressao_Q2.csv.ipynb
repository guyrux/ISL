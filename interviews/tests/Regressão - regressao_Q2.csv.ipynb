{
 "cells": [
  {
   "cell_type": "code",
   "execution_count": 1,
   "metadata": {
    "ExecuteTime": {
     "end_time": "2020-11-27T01:32:30.774889Z",
     "start_time": "2020-11-27T01:32:29.443618Z"
    }
   },
   "outputs": [],
   "source": [
    "# Instruções basiconas de sempre.\n",
    "\n",
    "# Lidar com dataframes.\n",
    "import numpy as np\n",
    "import pandas as pd\n",
    "\n",
    "# Lidar com gráficos.\n",
    "import matplotlib.pyplot as plt\n",
    "import seaborn as sns\n",
    "from plotting import (multiple_histograms_plot,\n",
    "                      bar_plot_with_categorical,\n",
    "                      plot_confusion_matrix,\n",
    "                      plot_confusion_matrix_2,\n",
    "                      plot_roc)\n",
    "\n",
    "# Lidar com preparação de dados.\n",
    "from data_prep import data_prep as dp # Eu que fiz esse modulinho (\"uuuuuuuuuma bosts!\").\n",
    "from sklearn.impute import SimpleImputer\n",
    "from sklearn.preprocessing import (StandardScaler\n",
    "                                   , MinMaxScaler)\n",
    "from sklearn.model_selection import (train_test_split\n",
    "                                     , cross_val_score\n",
    "                                     , StratifiedKFold\n",
    "                                     , TimeSeriesSplit\n",
    "                                     , KFold)\n",
    "\n",
    "# Lidar com validação de modelos.\n",
    "from sklearn.metrics import (confusion_matrix\n",
    "                             , accuracy_score\n",
    "                             , classification_report\n",
    "                             , mean_squared_error)\n",
    "\n",
    "pd.set_option('display.max_columns', None)  \n",
    "pd.set_option('display.max_colwidth', None)\n",
    "pd.set_option('display.max_rows', 500)"
   ]
  },
  {
   "cell_type": "code",
   "execution_count": 2,
   "metadata": {
    "ExecuteTime": {
     "end_time": "2020-11-27T01:32:30.805774Z",
     "start_time": "2020-11-27T01:32:30.774889Z"
    }
   },
   "outputs": [
    {
     "name": "stdout",
     "output_type": "stream",
     "text": [
      "(2500, 13)\n"
     ]
    },
    {
     "data": {
      "text/html": [
       "<div>\n",
       "<style scoped>\n",
       "    .dataframe tbody tr th:only-of-type {\n",
       "        vertical-align: middle;\n",
       "    }\n",
       "\n",
       "    .dataframe tbody tr th {\n",
       "        vertical-align: top;\n",
       "    }\n",
       "\n",
       "    .dataframe thead th {\n",
       "        text-align: right;\n",
       "    }\n",
       "</style>\n",
       "<table border=\"1\" class=\"dataframe\">\n",
       "  <thead>\n",
       "    <tr style=\"text-align: right;\">\n",
       "      <th></th>\n",
       "      <th>v_1</th>\n",
       "      <th>v_2</th>\n",
       "      <th>v_3</th>\n",
       "      <th>v_4</th>\n",
       "      <th>v_5</th>\n",
       "      <th>v_6</th>\n",
       "      <th>v_7</th>\n",
       "      <th>v_8</th>\n",
       "      <th>v_9</th>\n",
       "      <th>v_10</th>\n",
       "      <th>v_11</th>\n",
       "      <th>v_12</th>\n",
       "      <th>target</th>\n",
       "    </tr>\n",
       "  </thead>\n",
       "  <tbody>\n",
       "    <tr>\n",
       "      <th>0</th>\n",
       "      <td>1.92864</td>\n",
       "      <td>1.48414</td>\n",
       "      <td>0.86814</td>\n",
       "      <td>-0.67666</td>\n",
       "      <td>-0.28747</td>\n",
       "      <td>-1.45108</td>\n",
       "      <td>-0.73662</td>\n",
       "      <td>0.03134</td>\n",
       "      <td>-0.53872</td>\n",
       "      <td>1.30562</td>\n",
       "      <td>0.11557</td>\n",
       "      <td>-0.30478</td>\n",
       "      <td>127.682465</td>\n",
       "    </tr>\n",
       "    <tr>\n",
       "      <th>1</th>\n",
       "      <td>0.22185</td>\n",
       "      <td>-0.55320</td>\n",
       "      <td>-0.29845</td>\n",
       "      <td>0.65870</td>\n",
       "      <td>-0.30132</td>\n",
       "      <td>1.49319</td>\n",
       "      <td>-0.43096</td>\n",
       "      <td>0.33835</td>\n",
       "      <td>-0.30827</td>\n",
       "      <td>1.25765</td>\n",
       "      <td>1.88584</td>\n",
       "      <td>-0.57726</td>\n",
       "      <td>50.022972</td>\n",
       "    </tr>\n",
       "    <tr>\n",
       "      <th>2</th>\n",
       "      <td>-0.02183</td>\n",
       "      <td>0.13602</td>\n",
       "      <td>-0.37426</td>\n",
       "      <td>-1.29096</td>\n",
       "      <td>0.71912</td>\n",
       "      <td>1.95088</td>\n",
       "      <td>1.99309</td>\n",
       "      <td>-1.24197</td>\n",
       "      <td>-2.15377</td>\n",
       "      <td>-2.01455</td>\n",
       "      <td>-0.84625</td>\n",
       "      <td>0.29845</td>\n",
       "      <td>-24.364369</td>\n",
       "    </tr>\n",
       "    <tr>\n",
       "      <th>3</th>\n",
       "      <td>0.86528</td>\n",
       "      <td>1.36937</td>\n",
       "      <td>1.27999</td>\n",
       "      <td>1.18124</td>\n",
       "      <td>-0.72465</td>\n",
       "      <td>-0.02175</td>\n",
       "      <td>0.40340</td>\n",
       "      <td>-0.28272</td>\n",
       "      <td>-0.44390</td>\n",
       "      <td>0.84051</td>\n",
       "      <td>0.03326</td>\n",
       "      <td>-0.98550</td>\n",
       "      <td>96.415408</td>\n",
       "    </tr>\n",
       "    <tr>\n",
       "      <th>4</th>\n",
       "      <td>1.41333</td>\n",
       "      <td>-0.02920</td>\n",
       "      <td>-0.67228</td>\n",
       "      <td>1.76116</td>\n",
       "      <td>-1.12178</td>\n",
       "      <td>0.18002</td>\n",
       "      <td>0.48476</td>\n",
       "      <td>-0.76394</td>\n",
       "      <td>-0.16421</td>\n",
       "      <td>-2.42048</td>\n",
       "      <td>0.79727</td>\n",
       "      <td>-0.44033</td>\n",
       "      <td>157.407129</td>\n",
       "    </tr>\n",
       "  </tbody>\n",
       "</table>\n",
       "</div>"
      ],
      "text/plain": [
       "       v_1      v_2      v_3      v_4      v_5      v_6      v_7      v_8  \\\n",
       "0  1.92864  1.48414  0.86814 -0.67666 -0.28747 -1.45108 -0.73662  0.03134   \n",
       "1  0.22185 -0.55320 -0.29845  0.65870 -0.30132  1.49319 -0.43096  0.33835   \n",
       "2 -0.02183  0.13602 -0.37426 -1.29096  0.71912  1.95088  1.99309 -1.24197   \n",
       "3  0.86528  1.36937  1.27999  1.18124 -0.72465 -0.02175  0.40340 -0.28272   \n",
       "4  1.41333 -0.02920 -0.67228  1.76116 -1.12178  0.18002  0.48476 -0.76394   \n",
       "\n",
       "       v_9     v_10     v_11     v_12      target  \n",
       "0 -0.53872  1.30562  0.11557 -0.30478  127.682465  \n",
       "1 -0.30827  1.25765  1.88584 -0.57726   50.022972  \n",
       "2 -2.15377 -2.01455 -0.84625  0.29845  -24.364369  \n",
       "3 -0.44390  0.84051  0.03326 -0.98550   96.415408  \n",
       "4 -0.16421 -2.42048  0.79727 -0.44033  157.407129  "
      ]
     },
     "execution_count": 2,
     "metadata": {},
     "output_type": "execute_result"
    }
   ],
   "source": [
    "random_state = 42\n",
    "\n",
    "nomeDaBase = \"regressao_Q2.csv\"\n",
    "df = pd.read_csv(nomeDaBase, encoding=\"utf-8\")\n",
    "\n",
    "print(df.shape)\n",
    "df.head()"
   ]
  },
  {
   "cell_type": "code",
   "execution_count": 3,
   "metadata": {
    "ExecuteTime": {
     "end_time": "2020-11-27T01:32:30.820812Z",
     "start_time": "2020-11-27T01:32:30.806774Z"
    }
   },
   "outputs": [],
   "source": [
    "x = df.drop(\"target\", axis=1)\n",
    "y = df.target"
   ]
  },
  {
   "cell_type": "markdown",
   "metadata": {},
   "source": [
    "### Usando a validação cruzada aleatória"
   ]
  },
  {
   "cell_type": "code",
   "execution_count": 4,
   "metadata": {
    "ExecuteTime": {
     "end_time": "2020-11-27T01:32:32.784116Z",
     "start_time": "2020-11-27T01:32:30.958720Z"
    }
   },
   "outputs": [
    {
     "name": "stdout",
     "output_type": "stream",
     "text": [
      "fit_time: 0\n",
      "score_time: 0\n",
      "test_score: 20203\n",
      "train_score: 20200\n"
     ]
    }
   ],
   "source": [
    "from sklearn.svm import LinearSVR\n",
    "from sklearn.model_selection import cross_validate\n",
    "\n",
    "regressor = LinearSVR(C=0.001\n",
    "                     , random_state=random_state)\n",
    "\n",
    "# o método cross_validate é bem mais completo que \n",
    "cross = cross_validate(regressor, x.values, y, cv=5\n",
    "                       , scoring=\"neg_mean_squared_error\"\n",
    "                       , return_train_score=True\n",
    "                       , n_jobs=-1)\n",
    "\n",
    "# print(cross.keys())\n",
    "\n",
    "for key in cross.keys():\n",
    "    print(f\"\"\"{key}: {round(-cross[key].mean())}\"\"\")"
   ]
  },
  {
   "cell_type": "markdown",
   "metadata": {},
   "source": [
    "### Usando o TimeSeriesSplit\n",
    "Para obter uma validação cruzada sequencial."
   ]
  },
  {
   "cell_type": "code",
   "execution_count": 5,
   "metadata": {
    "ExecuteTime": {
     "end_time": "2020-11-27T01:32:32.831109Z",
     "start_time": "2020-11-27T01:32:32.786111Z"
    }
   },
   "outputs": [
    {
     "name": "stdout",
     "output_type": "stream",
     "text": [
      "train_score: 19746\n",
      "test_score: 20560\n",
      "\n",
      "- Split 1: Qtd de train: 420 --- Qtd de test: 416\n",
      "- Split 2: Qtd de train: 836 --- Qtd de test: 416\n",
      "- Split 3: Qtd de train: 1252 --- Qtd de test: 416\n",
      "- Split 4: Qtd de train: 1668 --- Qtd de test: 416\n",
      "- Split 5: Qtd de train: 2000 --- Qtd de test: 416\n"
     ]
    }
   ],
   "source": [
    "tscv = TimeSeriesSplit(n_splits=5, max_train_size=2000)\n",
    "\n",
    "tscv_split = {}\n",
    "train_score = []\n",
    "test_score = []\n",
    "i = 1\n",
    "\n",
    "for train_index, test_index in tscv.split(x):\n",
    "    tscv_split[i] = {\"TRAIN\":train_index, \"TEST\":test_index}\n",
    "    i += 1\n",
    "    x_train, x_test = x.iloc[train_index], x.iloc[test_index]\n",
    "    y_train, y_test = y.iloc[train_index], y.iloc[test_index]\n",
    "    regressor.fit(x_train, y_train)\n",
    "    y_pred = regressor.predict(x_train)\n",
    "    train_score.append(mean_squared_error(y_train, y_pred))\n",
    "    y_pred = regressor.predict(x_test)\n",
    "    test_score.append(mean_squared_error(y_test, y_pred))\n",
    "\n",
    "tscv_split = pd.DataFrame.from_dict(tscv_split, orient=\"index\")\n",
    "    \n",
    "print(f\"\"\"train_score: {round(np.mean(train_score))}\\ntest_score: {round(np.mean(test_score))}\\n\"\"\")\n",
    "    \n",
    "for i in tscv_split.index:\n",
    "    print(f\"\"\"- Split {i}: Qtd de train: {len(tscv_split.loc[i,\"TRAIN\"])} --- Qtd de test: {len(tscv_split.loc[i,\"TEST\"])}\"\"\")"
   ]
  },
  {
   "cell_type": "markdown",
   "metadata": {},
   "source": [
    "### Usando o KFold"
   ]
  },
  {
   "cell_type": "code",
   "execution_count": 6,
   "metadata": {
    "ExecuteTime": {
     "end_time": "2020-11-27T01:32:33.468303Z",
     "start_time": "2020-11-27T01:32:33.422846Z"
    }
   },
   "outputs": [
    {
     "name": "stdout",
     "output_type": "stream",
     "text": [
      "train_score: 20200\n",
      "test_score: 20203\n",
      "\n",
      "- Split 1: Qtd de train: 2000 --- Qtd de test: 500\n",
      "- Split 2: Qtd de train: 2000 --- Qtd de test: 500\n",
      "- Split 3: Qtd de train: 2000 --- Qtd de test: 500\n",
      "- Split 4: Qtd de train: 2000 --- Qtd de test: 500\n",
      "- Split 5: Qtd de train: 2000 --- Qtd de test: 500\n"
     ]
    }
   ],
   "source": [
    "kfold = KFold(n_splits=5, shuffle=False)\n",
    "\n",
    "kfold_split = {}\n",
    "train_score = []\n",
    "test_score = []\n",
    "i = 1\n",
    "\n",
    "for train_index, test_index in kfold.split(x):\n",
    "    kfold_split[i] = {\"TRAIN\":train_index, \"TEST\":test_index}\n",
    "    i += 1\n",
    "    x_train, x_test = x.iloc[train_index], x.iloc[test_index]\n",
    "    y_train, y_test = y.iloc[train_index], y.iloc[test_index]\n",
    "    regressor.fit(x_train, y_train)\n",
    "    y_pred = regressor.predict(x_train)\n",
    "    train_score.append(mean_squared_error(y_train, y_pred))\n",
    "    y_pred = regressor.predict(x_test)\n",
    "    test_score.append(mean_squared_error(y_test, y_pred))\n",
    "\n",
    "kfold_split = pd.DataFrame.from_dict(kfold_split, orient=\"index\")\n",
    "    \n",
    "print(f\"\"\"train_score: {round(np.mean(train_score))}\\ntest_score: {round(np.mean(test_score))}\\n\"\"\")\n",
    "    \n",
    "for i in tscv_split.index:\n",
    "    print(f\"\"\"- Split {i}: Qtd de train: {len(kfold_split.loc[i,\"TRAIN\"])} --- Qtd de test: {len(kfold_split.loc[i,\"TEST\"])}\"\"\")"
   ]
  }
 ],
 "metadata": {
  "hide_input": false,
  "kernelspec": {
   "display_name": "Python 3",
   "language": "python",
   "name": "python3"
  },
  "language_info": {
   "codemirror_mode": {
    "name": "ipython",
    "version": 3
   },
   "file_extension": ".py",
   "mimetype": "text/x-python",
   "name": "python",
   "nbconvert_exporter": "python",
   "pygments_lexer": "ipython3",
   "version": "3.8.5"
  },
  "toc": {
   "base_numbering": 1,
   "nav_menu": {},
   "number_sections": true,
   "sideBar": true,
   "skip_h1_title": false,
   "title_cell": "Table of Contents",
   "title_sidebar": "Contents",
   "toc_cell": false,
   "toc_position": {},
   "toc_section_display": true,
   "toc_window_display": false
  }
 },
 "nbformat": 4,
 "nbformat_minor": 4
}
