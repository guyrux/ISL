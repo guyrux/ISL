{
 "cells": [
  {
   "cell_type": "markdown",
   "metadata": {},
   "source": [
    "# Capítulo 07 - Indo além da linearidade\n",
    "\n",
    "## Regressão polinomial\n",
    "Como podemos ver na equação abaixo, a equação generalizada da regressão polinomial é só uma extensão da regressão linear simples.\n",
    "\n",
    "$$\n",
    "y_{i} = \\beta_{0} + \\beta_{1}x_{i}^1 + \\beta_{2}x_{i}^2 + ... + \\beta_{d}x_{i}^d + \\epsilon_{i}\n",
    "\\tag{1}\n",
    "$$\n",
    "\n",
    "O mesmo pode ser estendido para problemas de **classificação**. No livro (p.268), temos como exemplo a **regressão logística**:\n",
    "\n",
    "$$\n",
    "Pr(y_{i}>250|x_{i}) = \\frac{exp(\\beta_{0} + \\beta_{1}x_{i}^1 + \\beta_{2}x_{i}^2 + ... + \\beta_{d}x_{i}^d)}{1+exp(\\beta_{0} + \\beta_{1}x_{i}^1 + \\beta_{2}x_{i}^2 + ... + \\beta_{d}x_{i}^d)}\n",
    "\\tag{2}\n",
    "$$\n",
    "\n",
    "*Um ponto que não encontrei no texto ou nas aulas, mas acredito que devemos levar em conta para alguns problemas é quando o modelo leva em conta mais de um fator/variável de entrada e há gostaríamos de verificar se a interação entre os fatores é impactante ou não.*"
   ]
  },
  {
   "cell_type": "markdown",
   "metadata": {},
   "source": [
    "## Funções escalonadas (ou *Step functions*)\n",
    "\n",
    "Nas funções escalonadas, ao invés de olharmos para a todas as observações, \"olhamos\" para subconjuntos dessas observações e tentamos encontrar os modelos dentro desses subconjuntos. Ou seja, \"cortamos\" o domínio da função em *K* partes e tentamos ajustar os modelos por partes, dentro de cada região definida pelos \"cortes\".\n",
    "\n",
    "Imagine que temos *K* (por exemplo, *K=10*) regiões do domínio de um determinado fator/variável de entrada, as *K* equações abaixo representam esse cenário:\n",
    "\n",
    "$$ C_{0} = I(X < c_{0}) $$\n",
    "$$ C_{1} = I(c_{0} \\leq X < c_{1}) $$\n",
    "$$ ... $$\n",
    "$$ C_{10} = I(c_{10} \\leq X)\n",
    "\\tag{3}$$\n",
    "\n",
    "Sendo *I*, uma variável *dummy* (um indicador booleano que retorna 1 quando a condição é verdadeira e 0 quando falsa).\n",
    "\n",
    "Importante notar que **\"apenas uma região estará ativa por vez\"**:\n",
    "$$ \t\\sum_{i=1}^{k} C_{i} = 1$$\n",
    "\n",
    "$$ \tC_{0}(X) + C_{1}(X) + ... + C_{10}(X) = 1\n",
    "\\tag{4}$$\n",
    "\n",
    "Por fim, aplicando temos a seguinte equação para um problema de regressão que use a abordagem de funções escalonadas:\n",
    "\n",
    "$$ y_{i} = \\beta_{0} + \\beta_{1}C_{1}x_{i} + \\beta_{2}C_{2}x_{i} + ... + \\beta_{d}C_{d}x_{i} + \\epsilon_{i}\n",
    "\\tag{5} $$\n",
    "\n",
    "\n",
    "***No livro, é dito que as funções polinomiais e as funções escalonadas são casos especiais da abordagem de funções de base. A ideia é ter uma família de funções (ou transformações) que podem ser aplicadas a variável X. Assim temos:***\n",
    "\n",
    "$$ y_{i} = \\beta_{0} + \\beta_{1}b_{1}x_{i} + \\beta_{2}b_{2}x_{i} + ... + \\beta_{d}b_{d}x_{i} + \\epsilon_{i}\n",
    "\\tag{6} $$\n",
    "\n",
    "Sendo ***bi***, a função a ser ajustada no modelo."
   ]
  },
  {
   "cell_type": "markdown",
   "metadata": {},
   "source": [
    "## Regressões Splines\n",
    "\n",
    "As regressões Splines são um caso muito utilizado de funções de base. Essas funções são como as funções escalonadas porém, com a imposição de três restrições:\n",
    "- continuidade da função nos nós;\n",
    "- continuidade da primeira derivada; e\n",
    "- continuidade da segunda derivada.\n",
    "\n",
    "<!-- <img src=\"../figures/7_splines.jpg\"\n",
    "     alt=\"Regressões Splines\"\n",
    "     style=height=\"300px\"\n",
    "     align=\"center\"\n",
    "     margin: 0 auto;/> -->\n",
    "\n",
    "![](../figures/7_splines.jpg)"
   ]
  }
 ],
 "metadata": {
  "kernelspec": {
   "display_name": "Python 3",
   "language": "python",
   "name": "python3"
  },
  "language_info": {
   "codemirror_mode": {
    "name": "ipython",
    "version": 3
   },
   "file_extension": ".py",
   "mimetype": "text/x-python",
   "name": "python",
   "nbconvert_exporter": "python",
   "pygments_lexer": "ipython3",
   "version": "3.8.3"
  }
 },
 "nbformat": 4,
 "nbformat_minor": 4
}
