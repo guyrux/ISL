{
 "cells": [
  {
   "cell_type": "markdown",
   "metadata": {},
   "source": [
    "## Regressão polinomial\n",
    "Como podemos ver na equação abaixo, a equação generalizada da regressão polinomial é só uma extensão da regressão linear simples.\n",
    "\n",
    "$$\n",
    "y_{i} = \\beta_{0} + \\beta_{1}x_{i}^1 + \\beta_{2}x_{i}^2 + ... + \\beta_{d}x_{i}^d + \\epsilon_{i}\n",
    "\\tag{1}\n",
    "$$\n",
    "\n",
    "O mesmo pode ser estendido para problemas de classificação. No livro (p.268), temos como exemplo a **regressão logística**:\n",
    "\n",
    "$$\n",
    "Pr(y_{i}>250|x_{i}) = \\frac{exp(\\beta_{0} + \\beta_{1}x_{i}^1 + \\beta_{2}x_{i}^2 + ... + \\beta_{d}x_{i}^d)}{1+exp(\\beta_{0} + \\beta_{1}x_{i}^1 + \\beta_{2}x_{i}^2 + ... + \\beta_{d}x_{i}^d)}\n",
    "\\tag{2}\n",
    "$$\n",
    "\n",
    "*Um ponto que não encontrei no texto ou nas aulas, mas acredito que devemos levar em conta para alguns problemas é quando o modelo leva em conta mais de um fator/variável de entrada e há gostaríamos de verificar se a interação entre os fatores é impactante ou não.*"
   ]
  },
  {
   "cell_type": "code",
   "execution_count": null,
   "metadata": {},
   "outputs": [],
   "source": []
  }
 ],
 "metadata": {
  "kernelspec": {
   "display_name": "Python 3",
   "language": "python",
   "name": "python3"
  },
  "language_info": {
   "codemirror_mode": {
    "name": "ipython",
    "version": 3
   },
   "file_extension": ".py",
   "mimetype": "text/x-python",
   "name": "python",
   "nbconvert_exporter": "python",
   "pygments_lexer": "ipython3",
   "version": "3.8.3"
  }
 },
 "nbformat": 4,
 "nbformat_minor": 4
}
