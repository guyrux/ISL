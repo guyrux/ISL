{
 "cells": [
  {
   "cell_type": "markdown",
   "metadata": {},
   "source": [
    "# Capítulo 06 - Seleção de modelos lineares e regularização\n",
    "\n",
    "**Por que usar outros métodos de ajuste além dos mínimos quadrados ordinários?**\n",
    "Para obter (1) melhor acurácia e (2) interpretabilidade do modelo.\n",
    "\n",
    "## Seleção de subconjunto\n",
    "\n",
    "Identifica um subconjunto de fatores/preditores que impacte mais a resposta.\n",
    "\n",
    "Existem três abordagens:\n",
    "\n",
    "| Abordagem | Breve descrição | Pontos de Atenção|\n",
    "|:- |:- |:- |\n",
    "| **Best subset** | Faz uma combinação de todos os preditores<br>e pega-se o melhor de acordo com a métrica escolhida.<br> | Pontos de Atenção|\n",
    "| **Foward stepwise** | Breve descrição | Pontos de Atenção|\n",
    "| **Backward stepwise** | Breve descrição | Pontos de Atenção|\n",
    "\n",
    "### Escolhendo o modelo ótimo\n"
   ]
  },
  {
   "cell_type": "markdown",
   "metadata": {},
   "source": [
    "## Métodos de encolhimento\n",
    "\n",
    "*\"Encolhe\"* alguns dos coeficientes e reduz a variância (***Ridge***). Ou ***Lasso*** pode até zerar alguns dos coeficientes.\n",
    "\n",
    "### Regressão Ridge\n",
    "\n",
    "### O Lasso"
   ]
  },
  {
   "cell_type": "markdown",
   "metadata": {},
   "source": [
    "## Métodos de redução de dimesão\n",
    "\n",
    "Nesses métodos, encontra-se um sub-espaço menor que a dimensão de fatores/preditores original. As dimensões desse sub-espaço são projeções dos fatores originais.\n",
    "\n",
    "## Considerações em altas dimensões\n"
   ]
  },
  {
   "cell_type": "code",
   "execution_count": null,
   "metadata": {},
   "outputs": [],
   "source": []
  }
 ],
 "metadata": {
  "hide_input": false,
  "kernelspec": {
   "display_name": "Python 3",
   "language": "python",
   "name": "python3"
  },
  "language_info": {
   "codemirror_mode": {
    "name": "ipython",
    "version": 3
   },
   "file_extension": ".py",
   "mimetype": "text/x-python",
   "name": "python",
   "nbconvert_exporter": "python",
   "pygments_lexer": "ipython3",
   "version": "3.8.5"
  },
  "toc": {
   "base_numbering": 1,
   "nav_menu": {},
   "number_sections": true,
   "sideBar": true,
   "skip_h1_title": false,
   "title_cell": "Table of Contents",
   "title_sidebar": "Contents",
   "toc_cell": false,
   "toc_position": {},
   "toc_section_display": true,
   "toc_window_display": false
  }
 },
 "nbformat": 4,
 "nbformat_minor": 4
}
